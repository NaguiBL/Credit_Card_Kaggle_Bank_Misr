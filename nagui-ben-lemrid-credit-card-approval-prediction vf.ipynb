{
 "cells": [
  {
   "cell_type": "code",
   "execution_count": 1,
   "id": "6a7a4e32",
   "metadata": {
    "_cell_guid": "b1076dfc-b9ad-4769-8c92-a6c4dae69d19",
    "_uuid": "8f2839f25d086af736a60e9eeb907d3b93b6e0e5",
    "execution": {
     "iopub.execute_input": "2022-12-12T09:57:36.585320Z",
     "iopub.status.busy": "2022-12-12T09:57:36.584489Z",
     "iopub.status.idle": "2022-12-12T09:57:37.662237Z",
     "shell.execute_reply": "2022-12-12T09:57:37.660956Z"
    },
    "papermill": {
     "duration": 1.095022,
     "end_time": "2022-12-12T09:57:37.665360",
     "exception": false,
     "start_time": "2022-12-12T09:57:36.570338",
     "status": "completed"
    },
    "tags": []
   },
   "outputs": [
    {
     "name": "stdout",
     "output_type": "stream",
     "text": [
      "/kaggle/input/credit-card-approval-prediction/credit_record.csv\n",
      "/kaggle/input/credit-card-approval-prediction/application_record.csv\n"
     ]
    }
   ],
   "source": [
    "# This Python 3 environment comes with many helpful analytics libraries installed\n",
    "# It is defined by the kaggle/python Docker image: https://github.com/kaggle/docker-python\n",
    "# For example, here's several helpful packages to load\n",
    "\n",
    "import numpy as np # linear algebra\n",
    "import pandas as pd # data processing, CSV file I/O (e.g. pd.read_csv)\n",
    "import matplotlib.pyplot as plt\n",
    "import seaborn as sns\n",
    "\n",
    "# Input data files are available in the read-only \"../input/\" directory\n",
    "# For example, running this (by clicking run or pressing Shift+Enter) will list all files under the input directory\n",
    "\n",
    "import os\n",
    "for dirname, _, filenames in os.walk('/kaggle/input'):\n",
    "    for filename in filenames:\n",
    "        print(os.path.join(dirname, filename))\n",
    "\n",
    "# You can write up to 20GB to the current directory (/kaggle/working/) that gets preserved as output when you create a version using \"Save & Run All\" \n",
    "# You can also write temporary files to /kaggle/temp/, but they won't be saved outside of the current session"
   ]
  },
  {
   "cell_type": "markdown",
   "id": "34a9b84c",
   "metadata": {
    "papermill": {
     "duration": 0.012829,
     "end_time": "2022-12-12T09:57:37.689282",
     "exception": false,
     "start_time": "2022-12-12T09:57:37.676453",
     "status": "completed"
    },
    "tags": []
   },
   "source": [
    "## Data import"
   ]
  },
  {
   "cell_type": "code",
   "execution_count": 2,
   "id": "20f0ebda",
   "metadata": {
    "execution": {
     "iopub.execute_input": "2022-12-12T09:57:37.712629Z",
     "iopub.status.busy": "2022-12-12T09:57:37.711790Z",
     "iopub.status.idle": "2022-12-12T09:57:39.801812Z",
     "shell.execute_reply": "2022-12-12T09:57:39.800569Z"
    },
    "papermill": {
     "duration": 2.104899,
     "end_time": "2022-12-12T09:57:39.804682",
     "exception": false,
     "start_time": "2022-12-12T09:57:37.699783",
     "status": "completed"
    },
    "tags": []
   },
   "outputs": [],
   "source": [
    "credit_data = pd.read_csv(\"/kaggle/input/credit-card-approval-prediction/credit_record.csv\")\n",
    "application_data = pd.read_csv(\"/kaggle/input/credit-card-approval-prediction/application_record.csv\")"
   ]
  },
  {
   "cell_type": "markdown",
   "id": "12a0b726",
   "metadata": {
    "papermill": {
     "duration": 0.010379,
     "end_time": "2022-12-12T09:57:39.825751",
     "exception": false,
     "start_time": "2022-12-12T09:57:39.815372",
     "status": "completed"
    },
    "tags": []
   },
   "source": [
    "## Exploratory analysis"
   ]
  },
  {
   "cell_type": "code",
   "execution_count": 3,
   "id": "f4776521",
   "metadata": {
    "execution": {
     "iopub.execute_input": "2022-12-12T09:57:39.848711Z",
     "iopub.status.busy": "2022-12-12T09:57:39.848276Z",
     "iopub.status.idle": "2022-12-12T09:57:39.936776Z",
     "shell.execute_reply": "2022-12-12T09:57:39.935640Z"
    },
    "papermill": {
     "duration": 0.103701,
     "end_time": "2022-12-12T09:57:39.940059",
     "exception": false,
     "start_time": "2022-12-12T09:57:39.836358",
     "status": "completed"
    },
    "tags": []
   },
   "outputs": [
    {
     "name": "stdout",
     "output_type": "stream",
     "text": [
      "<class 'pandas.core.frame.DataFrame'>\n",
      "RangeIndex: 1048575 entries, 0 to 1048574\n",
      "Data columns (total 3 columns):\n",
      " #   Column          Non-Null Count    Dtype \n",
      "---  ------          --------------    ----- \n",
      " 0   ID              1048575 non-null  int64 \n",
      " 1   MONTHS_BALANCE  1048575 non-null  int64 \n",
      " 2   STATUS          1048575 non-null  object\n",
      "dtypes: int64(2), object(1)\n",
      "memory usage: 24.0+ MB\n"
     ]
    }
   ],
   "source": [
    "credit_data.info()"
   ]
  },
  {
   "cell_type": "code",
   "execution_count": 4,
   "id": "4b7f578a",
   "metadata": {
    "execution": {
     "iopub.execute_input": "2022-12-12T09:57:39.971374Z",
     "iopub.status.busy": "2022-12-12T09:57:39.970596Z",
     "iopub.status.idle": "2022-12-12T09:57:39.987622Z",
     "shell.execute_reply": "2022-12-12T09:57:39.986382Z"
    },
    "papermill": {
     "duration": 0.036893,
     "end_time": "2022-12-12T09:57:39.990233",
     "exception": false,
     "start_time": "2022-12-12T09:57:39.953340",
     "status": "completed"
    },
    "tags": []
   },
   "outputs": [
    {
     "data": {
      "text/html": [
       "<div>\n",
       "<style scoped>\n",
       "    .dataframe tbody tr th:only-of-type {\n",
       "        vertical-align: middle;\n",
       "    }\n",
       "\n",
       "    .dataframe tbody tr th {\n",
       "        vertical-align: top;\n",
       "    }\n",
       "\n",
       "    .dataframe thead th {\n",
       "        text-align: right;\n",
       "    }\n",
       "</style>\n",
       "<table border=\"1\" class=\"dataframe\">\n",
       "  <thead>\n",
       "    <tr style=\"text-align: right;\">\n",
       "      <th></th>\n",
       "      <th>ID</th>\n",
       "      <th>MONTHS_BALANCE</th>\n",
       "      <th>STATUS</th>\n",
       "    </tr>\n",
       "  </thead>\n",
       "  <tbody>\n",
       "    <tr>\n",
       "      <th>0</th>\n",
       "      <td>5001711</td>\n",
       "      <td>0</td>\n",
       "      <td>X</td>\n",
       "    </tr>\n",
       "    <tr>\n",
       "      <th>1</th>\n",
       "      <td>5001711</td>\n",
       "      <td>-1</td>\n",
       "      <td>0</td>\n",
       "    </tr>\n",
       "    <tr>\n",
       "      <th>2</th>\n",
       "      <td>5001711</td>\n",
       "      <td>-2</td>\n",
       "      <td>0</td>\n",
       "    </tr>\n",
       "    <tr>\n",
       "      <th>3</th>\n",
       "      <td>5001711</td>\n",
       "      <td>-3</td>\n",
       "      <td>0</td>\n",
       "    </tr>\n",
       "    <tr>\n",
       "      <th>4</th>\n",
       "      <td>5001712</td>\n",
       "      <td>0</td>\n",
       "      <td>C</td>\n",
       "    </tr>\n",
       "  </tbody>\n",
       "</table>\n",
       "</div>"
      ],
      "text/plain": [
       "        ID  MONTHS_BALANCE STATUS\n",
       "0  5001711               0      X\n",
       "1  5001711              -1      0\n",
       "2  5001711              -2      0\n",
       "3  5001711              -3      0\n",
       "4  5001712               0      C"
      ]
     },
     "execution_count": 4,
     "metadata": {},
     "output_type": "execute_result"
    }
   ],
   "source": [
    "credit_data.head()"
   ]
  },
  {
   "cell_type": "code",
   "execution_count": 5,
   "id": "4047e7ac",
   "metadata": {
    "execution": {
     "iopub.execute_input": "2022-12-12T09:57:40.014216Z",
     "iopub.status.busy": "2022-12-12T09:57:40.013779Z",
     "iopub.status.idle": "2022-12-12T09:57:40.088370Z",
     "shell.execute_reply": "2022-12-12T09:57:40.087169Z"
    },
    "papermill": {
     "duration": 0.089103,
     "end_time": "2022-12-12T09:57:40.090710",
     "exception": false,
     "start_time": "2022-12-12T09:57:40.001607",
     "status": "completed"
    },
    "tags": []
   },
   "outputs": [
    {
     "data": {
      "text/html": [
       "<div>\n",
       "<style scoped>\n",
       "    .dataframe tbody tr th:only-of-type {\n",
       "        vertical-align: middle;\n",
       "    }\n",
       "\n",
       "    .dataframe tbody tr th {\n",
       "        vertical-align: top;\n",
       "    }\n",
       "\n",
       "    .dataframe thead th {\n",
       "        text-align: right;\n",
       "    }\n",
       "</style>\n",
       "<table border=\"1\" class=\"dataframe\">\n",
       "  <thead>\n",
       "    <tr style=\"text-align: right;\">\n",
       "      <th></th>\n",
       "      <th>count</th>\n",
       "      <th>mean</th>\n",
       "      <th>std</th>\n",
       "      <th>min</th>\n",
       "      <th>25%</th>\n",
       "      <th>50%</th>\n",
       "      <th>75%</th>\n",
       "      <th>max</th>\n",
       "    </tr>\n",
       "  </thead>\n",
       "  <tbody>\n",
       "    <tr>\n",
       "      <th>ID</th>\n",
       "      <td>1048575.0</td>\n",
       "      <td>5.068286e+06</td>\n",
       "      <td>46150.578505</td>\n",
       "      <td>5001711.0</td>\n",
       "      <td>5023644.0</td>\n",
       "      <td>5062104.0</td>\n",
       "      <td>5113856.0</td>\n",
       "      <td>5150487.0</td>\n",
       "    </tr>\n",
       "    <tr>\n",
       "      <th>MONTHS_BALANCE</th>\n",
       "      <td>1048575.0</td>\n",
       "      <td>-1.913700e+01</td>\n",
       "      <td>14.023498</td>\n",
       "      <td>-60.0</td>\n",
       "      <td>-29.0</td>\n",
       "      <td>-17.0</td>\n",
       "      <td>-7.0</td>\n",
       "      <td>0.0</td>\n",
       "    </tr>\n",
       "  </tbody>\n",
       "</table>\n",
       "</div>"
      ],
      "text/plain": [
       "                    count          mean           std        min        25%  \\\n",
       "ID              1048575.0  5.068286e+06  46150.578505  5001711.0  5023644.0   \n",
       "MONTHS_BALANCE  1048575.0 -1.913700e+01     14.023498      -60.0      -29.0   \n",
       "\n",
       "                      50%        75%        max  \n",
       "ID              5062104.0  5113856.0  5150487.0  \n",
       "MONTHS_BALANCE      -17.0       -7.0        0.0  "
      ]
     },
     "execution_count": 5,
     "metadata": {},
     "output_type": "execute_result"
    }
   ],
   "source": [
    "credit_data.describe().T"
   ]
  },
  {
   "cell_type": "code",
   "execution_count": 6,
   "id": "02258f3a",
   "metadata": {
    "execution": {
     "iopub.execute_input": "2022-12-12T09:57:40.114710Z",
     "iopub.status.busy": "2022-12-12T09:57:40.114013Z",
     "iopub.status.idle": "2022-12-12T09:57:40.278431Z",
     "shell.execute_reply": "2022-12-12T09:57:40.277132Z"
    },
    "papermill": {
     "duration": 0.179204,
     "end_time": "2022-12-12T09:57:40.280857",
     "exception": false,
     "start_time": "2022-12-12T09:57:40.101653",
     "status": "completed"
    },
    "tags": []
   },
   "outputs": [
    {
     "name": "stdout",
     "output_type": "stream",
     "text": [
      "<class 'pandas.core.frame.DataFrame'>\n",
      "RangeIndex: 438557 entries, 0 to 438556\n",
      "Data columns (total 18 columns):\n",
      " #   Column               Non-Null Count   Dtype  \n",
      "---  ------               --------------   -----  \n",
      " 0   ID                   438557 non-null  int64  \n",
      " 1   CODE_GENDER          438557 non-null  object \n",
      " 2   FLAG_OWN_CAR         438557 non-null  object \n",
      " 3   FLAG_OWN_REALTY      438557 non-null  object \n",
      " 4   CNT_CHILDREN         438557 non-null  int64  \n",
      " 5   AMT_INCOME_TOTAL     438557 non-null  float64\n",
      " 6   NAME_INCOME_TYPE     438557 non-null  object \n",
      " 7   NAME_EDUCATION_TYPE  438557 non-null  object \n",
      " 8   NAME_FAMILY_STATUS   438557 non-null  object \n",
      " 9   NAME_HOUSING_TYPE    438557 non-null  object \n",
      " 10  DAYS_BIRTH           438557 non-null  int64  \n",
      " 11  DAYS_EMPLOYED        438557 non-null  int64  \n",
      " 12  FLAG_MOBIL           438557 non-null  int64  \n",
      " 13  FLAG_WORK_PHONE      438557 non-null  int64  \n",
      " 14  FLAG_PHONE           438557 non-null  int64  \n",
      " 15  FLAG_EMAIL           438557 non-null  int64  \n",
      " 16  OCCUPATION_TYPE      304354 non-null  object \n",
      " 17  CNT_FAM_MEMBERS      438557 non-null  float64\n",
      "dtypes: float64(2), int64(8), object(8)\n",
      "memory usage: 60.2+ MB\n"
     ]
    }
   ],
   "source": [
    "application_data.info()"
   ]
  },
  {
   "cell_type": "code",
   "execution_count": 7,
   "id": "37a45f9b",
   "metadata": {
    "execution": {
     "iopub.execute_input": "2022-12-12T09:57:40.305307Z",
     "iopub.status.busy": "2022-12-12T09:57:40.304608Z",
     "iopub.status.idle": "2022-12-12T09:57:40.323404Z",
     "shell.execute_reply": "2022-12-12T09:57:40.322283Z"
    },
    "papermill": {
     "duration": 0.033746,
     "end_time": "2022-12-12T09:57:40.325695",
     "exception": false,
     "start_time": "2022-12-12T09:57:40.291949",
     "status": "completed"
    },
    "tags": []
   },
   "outputs": [
    {
     "data": {
      "text/html": [
       "<div>\n",
       "<style scoped>\n",
       "    .dataframe tbody tr th:only-of-type {\n",
       "        vertical-align: middle;\n",
       "    }\n",
       "\n",
       "    .dataframe tbody tr th {\n",
       "        vertical-align: top;\n",
       "    }\n",
       "\n",
       "    .dataframe thead th {\n",
       "        text-align: right;\n",
       "    }\n",
       "</style>\n",
       "<table border=\"1\" class=\"dataframe\">\n",
       "  <thead>\n",
       "    <tr style=\"text-align: right;\">\n",
       "      <th></th>\n",
       "      <th>ID</th>\n",
       "      <th>CODE_GENDER</th>\n",
       "      <th>FLAG_OWN_CAR</th>\n",
       "      <th>FLAG_OWN_REALTY</th>\n",
       "      <th>CNT_CHILDREN</th>\n",
       "      <th>AMT_INCOME_TOTAL</th>\n",
       "      <th>NAME_INCOME_TYPE</th>\n",
       "      <th>NAME_EDUCATION_TYPE</th>\n",
       "      <th>NAME_FAMILY_STATUS</th>\n",
       "      <th>NAME_HOUSING_TYPE</th>\n",
       "      <th>DAYS_BIRTH</th>\n",
       "      <th>DAYS_EMPLOYED</th>\n",
       "      <th>FLAG_MOBIL</th>\n",
       "      <th>FLAG_WORK_PHONE</th>\n",
       "      <th>FLAG_PHONE</th>\n",
       "      <th>FLAG_EMAIL</th>\n",
       "      <th>OCCUPATION_TYPE</th>\n",
       "      <th>CNT_FAM_MEMBERS</th>\n",
       "    </tr>\n",
       "  </thead>\n",
       "  <tbody>\n",
       "    <tr>\n",
       "      <th>0</th>\n",
       "      <td>5008804</td>\n",
       "      <td>M</td>\n",
       "      <td>Y</td>\n",
       "      <td>Y</td>\n",
       "      <td>0</td>\n",
       "      <td>427500.0</td>\n",
       "      <td>Working</td>\n",
       "      <td>Higher education</td>\n",
       "      <td>Civil marriage</td>\n",
       "      <td>Rented apartment</td>\n",
       "      <td>-12005</td>\n",
       "      <td>-4542</td>\n",
       "      <td>1</td>\n",
       "      <td>1</td>\n",
       "      <td>0</td>\n",
       "      <td>0</td>\n",
       "      <td>NaN</td>\n",
       "      <td>2.0</td>\n",
       "    </tr>\n",
       "    <tr>\n",
       "      <th>1</th>\n",
       "      <td>5008805</td>\n",
       "      <td>M</td>\n",
       "      <td>Y</td>\n",
       "      <td>Y</td>\n",
       "      <td>0</td>\n",
       "      <td>427500.0</td>\n",
       "      <td>Working</td>\n",
       "      <td>Higher education</td>\n",
       "      <td>Civil marriage</td>\n",
       "      <td>Rented apartment</td>\n",
       "      <td>-12005</td>\n",
       "      <td>-4542</td>\n",
       "      <td>1</td>\n",
       "      <td>1</td>\n",
       "      <td>0</td>\n",
       "      <td>0</td>\n",
       "      <td>NaN</td>\n",
       "      <td>2.0</td>\n",
       "    </tr>\n",
       "    <tr>\n",
       "      <th>2</th>\n",
       "      <td>5008806</td>\n",
       "      <td>M</td>\n",
       "      <td>Y</td>\n",
       "      <td>Y</td>\n",
       "      <td>0</td>\n",
       "      <td>112500.0</td>\n",
       "      <td>Working</td>\n",
       "      <td>Secondary / secondary special</td>\n",
       "      <td>Married</td>\n",
       "      <td>House / apartment</td>\n",
       "      <td>-21474</td>\n",
       "      <td>-1134</td>\n",
       "      <td>1</td>\n",
       "      <td>0</td>\n",
       "      <td>0</td>\n",
       "      <td>0</td>\n",
       "      <td>Security staff</td>\n",
       "      <td>2.0</td>\n",
       "    </tr>\n",
       "    <tr>\n",
       "      <th>3</th>\n",
       "      <td>5008808</td>\n",
       "      <td>F</td>\n",
       "      <td>N</td>\n",
       "      <td>Y</td>\n",
       "      <td>0</td>\n",
       "      <td>270000.0</td>\n",
       "      <td>Commercial associate</td>\n",
       "      <td>Secondary / secondary special</td>\n",
       "      <td>Single / not married</td>\n",
       "      <td>House / apartment</td>\n",
       "      <td>-19110</td>\n",
       "      <td>-3051</td>\n",
       "      <td>1</td>\n",
       "      <td>0</td>\n",
       "      <td>1</td>\n",
       "      <td>1</td>\n",
       "      <td>Sales staff</td>\n",
       "      <td>1.0</td>\n",
       "    </tr>\n",
       "    <tr>\n",
       "      <th>4</th>\n",
       "      <td>5008809</td>\n",
       "      <td>F</td>\n",
       "      <td>N</td>\n",
       "      <td>Y</td>\n",
       "      <td>0</td>\n",
       "      <td>270000.0</td>\n",
       "      <td>Commercial associate</td>\n",
       "      <td>Secondary / secondary special</td>\n",
       "      <td>Single / not married</td>\n",
       "      <td>House / apartment</td>\n",
       "      <td>-19110</td>\n",
       "      <td>-3051</td>\n",
       "      <td>1</td>\n",
       "      <td>0</td>\n",
       "      <td>1</td>\n",
       "      <td>1</td>\n",
       "      <td>Sales staff</td>\n",
       "      <td>1.0</td>\n",
       "    </tr>\n",
       "  </tbody>\n",
       "</table>\n",
       "</div>"
      ],
      "text/plain": [
       "        ID CODE_GENDER FLAG_OWN_CAR FLAG_OWN_REALTY  CNT_CHILDREN  \\\n",
       "0  5008804           M            Y               Y             0   \n",
       "1  5008805           M            Y               Y             0   \n",
       "2  5008806           M            Y               Y             0   \n",
       "3  5008808           F            N               Y             0   \n",
       "4  5008809           F            N               Y             0   \n",
       "\n",
       "   AMT_INCOME_TOTAL      NAME_INCOME_TYPE            NAME_EDUCATION_TYPE  \\\n",
       "0          427500.0               Working               Higher education   \n",
       "1          427500.0               Working               Higher education   \n",
       "2          112500.0               Working  Secondary / secondary special   \n",
       "3          270000.0  Commercial associate  Secondary / secondary special   \n",
       "4          270000.0  Commercial associate  Secondary / secondary special   \n",
       "\n",
       "     NAME_FAMILY_STATUS  NAME_HOUSING_TYPE  DAYS_BIRTH  DAYS_EMPLOYED  \\\n",
       "0        Civil marriage   Rented apartment      -12005          -4542   \n",
       "1        Civil marriage   Rented apartment      -12005          -4542   \n",
       "2               Married  House / apartment      -21474          -1134   \n",
       "3  Single / not married  House / apartment      -19110          -3051   \n",
       "4  Single / not married  House / apartment      -19110          -3051   \n",
       "\n",
       "   FLAG_MOBIL  FLAG_WORK_PHONE  FLAG_PHONE  FLAG_EMAIL OCCUPATION_TYPE  \\\n",
       "0           1                1           0           0             NaN   \n",
       "1           1                1           0           0             NaN   \n",
       "2           1                0           0           0  Security staff   \n",
       "3           1                0           1           1     Sales staff   \n",
       "4           1                0           1           1     Sales staff   \n",
       "\n",
       "   CNT_FAM_MEMBERS  \n",
       "0              2.0  \n",
       "1              2.0  \n",
       "2              2.0  \n",
       "3              1.0  \n",
       "4              1.0  "
      ]
     },
     "execution_count": 7,
     "metadata": {},
     "output_type": "execute_result"
    }
   ],
   "source": [
    "application_data.head()"
   ]
  },
  {
   "cell_type": "code",
   "execution_count": 8,
   "id": "474fb4ad",
   "metadata": {
    "execution": {
     "iopub.execute_input": "2022-12-12T09:57:40.350602Z",
     "iopub.status.busy": "2022-12-12T09:57:40.349816Z",
     "iopub.status.idle": "2022-12-12T09:57:40.498765Z",
     "shell.execute_reply": "2022-12-12T09:57:40.497654Z"
    },
    "papermill": {
     "duration": 0.164033,
     "end_time": "2022-12-12T09:57:40.501238",
     "exception": false,
     "start_time": "2022-12-12T09:57:40.337205",
     "status": "completed"
    },
    "tags": []
   },
   "outputs": [
    {
     "data": {
      "text/html": [
       "<div>\n",
       "<style scoped>\n",
       "    .dataframe tbody tr th:only-of-type {\n",
       "        vertical-align: middle;\n",
       "    }\n",
       "\n",
       "    .dataframe tbody tr th {\n",
       "        vertical-align: top;\n",
       "    }\n",
       "\n",
       "    .dataframe thead th {\n",
       "        text-align: right;\n",
       "    }\n",
       "</style>\n",
       "<table border=\"1\" class=\"dataframe\">\n",
       "  <thead>\n",
       "    <tr style=\"text-align: right;\">\n",
       "      <th></th>\n",
       "      <th>count</th>\n",
       "      <th>mean</th>\n",
       "      <th>std</th>\n",
       "      <th>min</th>\n",
       "      <th>25%</th>\n",
       "      <th>50%</th>\n",
       "      <th>75%</th>\n",
       "      <th>max</th>\n",
       "    </tr>\n",
       "  </thead>\n",
       "  <tbody>\n",
       "    <tr>\n",
       "      <th>ID</th>\n",
       "      <td>438557.0</td>\n",
       "      <td>6.022176e+06</td>\n",
       "      <td>571637.023257</td>\n",
       "      <td>5008804.0</td>\n",
       "      <td>5609375.0</td>\n",
       "      <td>6047745.0</td>\n",
       "      <td>6456971.0</td>\n",
       "      <td>7999952.0</td>\n",
       "    </tr>\n",
       "    <tr>\n",
       "      <th>CNT_CHILDREN</th>\n",
       "      <td>438557.0</td>\n",
       "      <td>4.273903e-01</td>\n",
       "      <td>0.724882</td>\n",
       "      <td>0.0</td>\n",
       "      <td>0.0</td>\n",
       "      <td>0.0</td>\n",
       "      <td>1.0</td>\n",
       "      <td>19.0</td>\n",
       "    </tr>\n",
       "    <tr>\n",
       "      <th>AMT_INCOME_TOTAL</th>\n",
       "      <td>438557.0</td>\n",
       "      <td>1.875243e+05</td>\n",
       "      <td>110086.853066</td>\n",
       "      <td>26100.0</td>\n",
       "      <td>121500.0</td>\n",
       "      <td>160780.5</td>\n",
       "      <td>225000.0</td>\n",
       "      <td>6750000.0</td>\n",
       "    </tr>\n",
       "    <tr>\n",
       "      <th>DAYS_BIRTH</th>\n",
       "      <td>438557.0</td>\n",
       "      <td>-1.599790e+04</td>\n",
       "      <td>4185.030007</td>\n",
       "      <td>-25201.0</td>\n",
       "      <td>-19483.0</td>\n",
       "      <td>-15630.0</td>\n",
       "      <td>-12514.0</td>\n",
       "      <td>-7489.0</td>\n",
       "    </tr>\n",
       "    <tr>\n",
       "      <th>DAYS_EMPLOYED</th>\n",
       "      <td>438557.0</td>\n",
       "      <td>6.056368e+04</td>\n",
       "      <td>138767.799647</td>\n",
       "      <td>-17531.0</td>\n",
       "      <td>-3103.0</td>\n",
       "      <td>-1467.0</td>\n",
       "      <td>-371.0</td>\n",
       "      <td>365243.0</td>\n",
       "    </tr>\n",
       "    <tr>\n",
       "      <th>FLAG_MOBIL</th>\n",
       "      <td>438557.0</td>\n",
       "      <td>1.000000e+00</td>\n",
       "      <td>0.000000</td>\n",
       "      <td>1.0</td>\n",
       "      <td>1.0</td>\n",
       "      <td>1.0</td>\n",
       "      <td>1.0</td>\n",
       "      <td>1.0</td>\n",
       "    </tr>\n",
       "    <tr>\n",
       "      <th>FLAG_WORK_PHONE</th>\n",
       "      <td>438557.0</td>\n",
       "      <td>2.061328e-01</td>\n",
       "      <td>0.404527</td>\n",
       "      <td>0.0</td>\n",
       "      <td>0.0</td>\n",
       "      <td>0.0</td>\n",
       "      <td>0.0</td>\n",
       "      <td>1.0</td>\n",
       "    </tr>\n",
       "    <tr>\n",
       "      <th>FLAG_PHONE</th>\n",
       "      <td>438557.0</td>\n",
       "      <td>2.877710e-01</td>\n",
       "      <td>0.452724</td>\n",
       "      <td>0.0</td>\n",
       "      <td>0.0</td>\n",
       "      <td>0.0</td>\n",
       "      <td>1.0</td>\n",
       "      <td>1.0</td>\n",
       "    </tr>\n",
       "    <tr>\n",
       "      <th>FLAG_EMAIL</th>\n",
       "      <td>438557.0</td>\n",
       "      <td>1.082071e-01</td>\n",
       "      <td>0.310642</td>\n",
       "      <td>0.0</td>\n",
       "      <td>0.0</td>\n",
       "      <td>0.0</td>\n",
       "      <td>0.0</td>\n",
       "      <td>1.0</td>\n",
       "    </tr>\n",
       "    <tr>\n",
       "      <th>CNT_FAM_MEMBERS</th>\n",
       "      <td>438557.0</td>\n",
       "      <td>2.194465e+00</td>\n",
       "      <td>0.897207</td>\n",
       "      <td>1.0</td>\n",
       "      <td>2.0</td>\n",
       "      <td>2.0</td>\n",
       "      <td>3.0</td>\n",
       "      <td>20.0</td>\n",
       "    </tr>\n",
       "  </tbody>\n",
       "</table>\n",
       "</div>"
      ],
      "text/plain": [
       "                     count          mean            std        min        25%  \\\n",
       "ID                438557.0  6.022176e+06  571637.023257  5008804.0  5609375.0   \n",
       "CNT_CHILDREN      438557.0  4.273903e-01       0.724882        0.0        0.0   \n",
       "AMT_INCOME_TOTAL  438557.0  1.875243e+05  110086.853066    26100.0   121500.0   \n",
       "DAYS_BIRTH        438557.0 -1.599790e+04    4185.030007   -25201.0   -19483.0   \n",
       "DAYS_EMPLOYED     438557.0  6.056368e+04  138767.799647   -17531.0    -3103.0   \n",
       "FLAG_MOBIL        438557.0  1.000000e+00       0.000000        1.0        1.0   \n",
       "FLAG_WORK_PHONE   438557.0  2.061328e-01       0.404527        0.0        0.0   \n",
       "FLAG_PHONE        438557.0  2.877710e-01       0.452724        0.0        0.0   \n",
       "FLAG_EMAIL        438557.0  1.082071e-01       0.310642        0.0        0.0   \n",
       "CNT_FAM_MEMBERS   438557.0  2.194465e+00       0.897207        1.0        2.0   \n",
       "\n",
       "                        50%        75%        max  \n",
       "ID                6047745.0  6456971.0  7999952.0  \n",
       "CNT_CHILDREN            0.0        1.0       19.0  \n",
       "AMT_INCOME_TOTAL   160780.5   225000.0  6750000.0  \n",
       "DAYS_BIRTH         -15630.0   -12514.0    -7489.0  \n",
       "DAYS_EMPLOYED       -1467.0     -371.0   365243.0  \n",
       "FLAG_MOBIL              1.0        1.0        1.0  \n",
       "FLAG_WORK_PHONE         0.0        0.0        1.0  \n",
       "FLAG_PHONE              0.0        1.0        1.0  \n",
       "FLAG_EMAIL              0.0        0.0        1.0  \n",
       "CNT_FAM_MEMBERS         2.0        3.0       20.0  "
      ]
     },
     "execution_count": 8,
     "metadata": {},
     "output_type": "execute_result"
    }
   ],
   "source": [
    "application_data.describe().T"
   ]
  },
  {
   "cell_type": "code",
   "execution_count": 9,
   "id": "f63223e7",
   "metadata": {
    "execution": {
     "iopub.execute_input": "2022-12-12T09:57:40.526448Z",
     "iopub.status.busy": "2022-12-12T09:57:40.526056Z",
     "iopub.status.idle": "2022-12-12T09:57:40.880378Z",
     "shell.execute_reply": "2022-12-12T09:57:40.879237Z"
    },
    "papermill": {
     "duration": 0.369736,
     "end_time": "2022-12-12T09:57:40.882835",
     "exception": false,
     "start_time": "2022-12-12T09:57:40.513099",
     "status": "completed"
    },
    "tags": []
   },
   "outputs": [
    {
     "data": {
      "text/plain": [
       "<AxesSubplot:>"
      ]
     },
     "execution_count": 9,
     "metadata": {},
     "output_type": "execute_result"
    },
    {
     "data": {
      "image/png": "[encoded data removed]",
      "text/plain": [
       "<Figure size 432x288 with 1 Axes>"
      ]
     },
     "metadata": {
      "needs_background": "light"
     },
     "output_type": "display_data"
    }
   ],
   "source": [
    "application_data['NAME_INCOME_TYPE'].hist()"
   ]
  },
  {
   "cell_type": "code",
   "execution_count": 10,
   "id": "cb5fc351",
   "metadata": {
    "execution": {
     "iopub.execute_input": "2022-12-12T09:57:40.909731Z",
     "iopub.status.busy": "2022-12-12T09:57:40.908551Z",
     "iopub.status.idle": "2022-12-12T09:57:41.235445Z",
     "shell.execute_reply": "2022-12-12T09:57:41.234264Z"
    },
    "papermill": {
     "duration": 0.342948,
     "end_time": "2022-12-12T09:57:41.238020",
     "exception": false,
     "start_time": "2022-12-12T09:57:40.895072",
     "status": "completed"
    },
    "tags": []
   },
   "outputs": [
    {
     "data": {
      "text/plain": [
       "<AxesSubplot:>"
      ]
     },
     "execution_count": 10,
     "metadata": {},
     "output_type": "execute_result"
    },
    {
     "data": {
      "image/png": "[encoded data removed]",
      "text/plain": [
       "<Figure size 432x288 with 1 Axes>"
      ]
     },
     "metadata": {
      "needs_background": "light"
     },
     "output_type": "display_data"
    }
   ],
   "source": [
    "application_data['NAME_HOUSING_TYPE'].hist()"
   ]
  },
  {
   "cell_type": "code",
   "execution_count": 11,
   "id": "fe044185",
   "metadata": {
    "execution": {
     "iopub.execute_input": "2022-12-12T09:57:41.265412Z",
     "iopub.status.busy": "2022-12-12T09:57:41.264324Z",
     "iopub.status.idle": "2022-12-12T09:57:42.162436Z",
     "shell.execute_reply": "2022-12-12T09:57:42.161278Z"
    },
    "papermill": {
     "duration": 0.91463,
     "end_time": "2022-12-12T09:57:42.165211",
     "exception": false,
     "start_time": "2022-12-12T09:57:41.250581",
     "status": "completed"
    },
    "tags": []
   },
   "outputs": [
    {
     "data": {
      "text/plain": [
       "<AxesSubplot:xlabel='OCCUPATION_TYPE', ylabel='count'>"
      ]
     },
     "execution_count": 11,
     "metadata": {},
     "output_type": "execute_result"
    },
    {
     "data": {
      "image/png": "[encoded data removed]",
      "text/plain": [
       "<Figure size 1800x1080 with 1 Axes>"
      ]
     },
     "metadata": {},
     "output_type": "display_data"
    }
   ],
   "source": [
    "sns.set(rc={'figure.figsize':(25,15)})\n",
    "sns.countplot(x='OCCUPATION_TYPE',hue='CODE_GENDER',data=application_data)"
   ]
  },
  {
   "cell_type": "code",
   "execution_count": 12,
   "id": "87b1e39b",
   "metadata": {
    "execution": {
     "iopub.execute_input": "2022-12-12T09:57:42.194109Z",
     "iopub.status.busy": "2022-12-12T09:57:42.192867Z",
     "iopub.status.idle": "2022-12-12T09:57:43.090603Z",
     "shell.execute_reply": "2022-12-12T09:57:43.089550Z"
    },
    "papermill": {
     "duration": 0.914191,
     "end_time": "2022-12-12T09:57:43.092809",
     "exception": false,
     "start_time": "2022-12-12T09:57:42.178618",
     "status": "completed"
    },
    "tags": []
   },
   "outputs": [
    {
     "data": {
      "text/plain": [
       "<AxesSubplot:xlabel='OCCUPATION_TYPE', ylabel='count'>"
      ]
     },
     "execution_count": 12,
     "metadata": {},
     "output_type": "execute_result"
    },
    {
     "data": {
      "image/png": "[encoded data removed]",
      "text/plain": [
       "<Figure size 1800x1080 with 1 Axes>"
      ]
     },
     "metadata": {},
     "output_type": "display_data"
    }
   ],
   "source": [
    "sns.set(rc={'figure.figsize':(25,15)})\n",
    "sns.countplot(x='OCCUPATION_TYPE',hue='FLAG_OWN_CAR',data=application_data)"
   ]
  },
  {
   "cell_type": "markdown",
   "id": "c21135af",
   "metadata": {
    "papermill": {
     "duration": 0.013188,
     "end_time": "2022-12-12T09:57:43.119881",
     "exception": false,
     "start_time": "2022-12-12T09:57:43.106693",
     "status": "completed"
    },
    "tags": []
   },
   "source": [
    "## Data cleaning and preparation \n",
    "### (we consider as bad customers the ones with more than 30 days of overdue payments)"
   ]
  },
  {
   "cell_type": "code",
   "execution_count": 13,
   "id": "967bfdd2",
   "metadata": {
    "execution": {
     "iopub.execute_input": "2022-12-12T09:57:43.149258Z",
     "iopub.status.busy": "2022-12-12T09:57:43.148525Z",
     "iopub.status.idle": "2022-12-12T09:57:43.400420Z",
     "shell.execute_reply": "2022-12-12T09:57:43.399247Z"
    },
    "papermill": {
     "duration": 0.269302,
     "end_time": "2022-12-12T09:57:43.402973",
     "exception": false,
     "start_time": "2022-12-12T09:57:43.133671",
     "status": "completed"
    },
    "tags": []
   },
   "outputs": [
    {
     "data": {
      "text/html": [
       "<div>\n",
       "<style scoped>\n",
       "    .dataframe tbody tr th:only-of-type {\n",
       "        vertical-align: middle;\n",
       "    }\n",
       "\n",
       "    .dataframe tbody tr th {\n",
       "        vertical-align: top;\n",
       "    }\n",
       "\n",
       "    .dataframe thead th {\n",
       "        text-align: right;\n",
       "    }\n",
       "</style>\n",
       "<table border=\"1\" class=\"dataframe\">\n",
       "  <thead>\n",
       "    <tr style=\"text-align: right;\">\n",
       "      <th></th>\n",
       "      <th>ID</th>\n",
       "      <th>STATUS</th>\n",
       "    </tr>\n",
       "  </thead>\n",
       "  <tbody>\n",
       "    <tr>\n",
       "      <th>51333</th>\n",
       "      <td>5150487</td>\n",
       "      <td>1</td>\n",
       "    </tr>\n",
       "    <tr>\n",
       "      <th>51332</th>\n",
       "      <td>5150485</td>\n",
       "      <td>1</td>\n",
       "    </tr>\n",
       "    <tr>\n",
       "      <th>51331</th>\n",
       "      <td>5150484</td>\n",
       "      <td>1</td>\n",
       "    </tr>\n",
       "    <tr>\n",
       "      <th>51330</th>\n",
       "      <td>5150483</td>\n",
       "      <td>1</td>\n",
       "    </tr>\n",
       "    <tr>\n",
       "      <th>51329</th>\n",
       "      <td>5150482</td>\n",
       "      <td>1</td>\n",
       "    </tr>\n",
       "    <tr>\n",
       "      <th>...</th>\n",
       "      <td>...</td>\n",
       "      <td>...</td>\n",
       "    </tr>\n",
       "    <tr>\n",
       "      <th>4</th>\n",
       "      <td>5001715</td>\n",
       "      <td>1</td>\n",
       "    </tr>\n",
       "    <tr>\n",
       "      <th>3</th>\n",
       "      <td>5001714</td>\n",
       "      <td>1</td>\n",
       "    </tr>\n",
       "    <tr>\n",
       "      <th>2</th>\n",
       "      <td>5001713</td>\n",
       "      <td>1</td>\n",
       "    </tr>\n",
       "    <tr>\n",
       "      <th>1</th>\n",
       "      <td>5001712</td>\n",
       "      <td>1</td>\n",
       "    </tr>\n",
       "    <tr>\n",
       "      <th>0</th>\n",
       "      <td>5001711</td>\n",
       "      <td>1</td>\n",
       "    </tr>\n",
       "  </tbody>\n",
       "</table>\n",
       "<p>45985 rows × 2 columns</p>\n",
       "</div>"
      ],
      "text/plain": [
       "            ID  STATUS\n",
       "51333  5150487       1\n",
       "51332  5150485       1\n",
       "51331  5150484       1\n",
       "51330  5150483       1\n",
       "51329  5150482       1\n",
       "...        ...     ...\n",
       "4      5001715       1\n",
       "3      5001714       1\n",
       "2      5001713       1\n",
       "1      5001712       1\n",
       "0      5001711       1\n",
       "\n",
       "[45985 rows x 2 columns]"
      ]
     },
     "execution_count": 13,
     "metadata": {},
     "output_type": "execute_result"
    }
   ],
   "source": [
    "df = pd.DataFrame(credit_data.groupby([\"ID\", \"STATUS\"])[\"STATUS\"].count()).rename(columns={'STATUS': 'Freq'}).reset_index()\n",
    "df[\"STATUS\"] = df[\"STATUS\"].map({\"X\":1, \"C\":1, \"0\":1, \"1\":0, \"2\":0, \"3\":0, \"4\":0, \"5\":0})\n",
    "df = pd.DataFrame(df.groupby([\"ID\", \"STATUS\"])[\"Freq\"].sum()).reset_index().sort_values(by=[\"ID\", \"Freq\"], ascending = False)\n",
    "df = df.drop_duplicates(subset=[\"ID\"])\n",
    "df = df.drop(\"Freq\",axis=1)\n",
    "df"
   ]
  },
  {
   "cell_type": "code",
   "execution_count": 14,
   "id": "071552dd",
   "metadata": {
    "execution": {
     "iopub.execute_input": "2022-12-12T09:57:43.433713Z",
     "iopub.status.busy": "2022-12-12T09:57:43.432717Z",
     "iopub.status.idle": "2022-12-12T09:57:43.442598Z",
     "shell.execute_reply": "2022-12-12T09:57:43.441279Z"
    },
    "papermill": {
     "duration": 0.028078,
     "end_time": "2022-12-12T09:57:43.445037",
     "exception": false,
     "start_time": "2022-12-12T09:57:43.416959",
     "status": "completed"
    },
    "tags": []
   },
   "outputs": [
    {
     "data": {
      "text/plain": [
       "1    45800\n",
       "0      185\n",
       "Name: STATUS, dtype: int64"
      ]
     },
     "execution_count": 14,
     "metadata": {},
     "output_type": "execute_result"
    }
   ],
   "source": [
    "df[\"STATUS\"].value_counts()"
   ]
  },
  {
   "cell_type": "code",
   "execution_count": 15,
   "id": "f9250aa0",
   "metadata": {
    "execution": {
     "iopub.execute_input": "2022-12-12T09:57:43.474671Z",
     "iopub.status.busy": "2022-12-12T09:57:43.474240Z",
     "iopub.status.idle": "2022-12-12T09:57:43.907622Z",
     "shell.execute_reply": "2022-12-12T09:57:43.906338Z"
    },
    "papermill": {
     "duration": 0.451123,
     "end_time": "2022-12-12T09:57:43.910053",
     "exception": false,
     "start_time": "2022-12-12T09:57:43.458930",
     "status": "completed"
    },
    "tags": []
   },
   "outputs": [
    {
     "data": {
      "text/html": [
       "<div>\n",
       "<style scoped>\n",
       "    .dataframe tbody tr th:only-of-type {\n",
       "        vertical-align: middle;\n",
       "    }\n",
       "\n",
       "    .dataframe tbody tr th {\n",
       "        vertical-align: top;\n",
       "    }\n",
       "\n",
       "    .dataframe thead th {\n",
       "        text-align: right;\n",
       "    }\n",
       "</style>\n",
       "<table border=\"1\" class=\"dataframe\">\n",
       "  <thead>\n",
       "    <tr style=\"text-align: right;\">\n",
       "      <th></th>\n",
       "      <th>ID</th>\n",
       "      <th>CODE_GENDER</th>\n",
       "      <th>FLAG_OWN_CAR</th>\n",
       "      <th>FLAG_OWN_REALTY</th>\n",
       "      <th>CNT_CHILDREN</th>\n",
       "      <th>AMT_INCOME_TOTAL</th>\n",
       "      <th>NAME_INCOME_TYPE</th>\n",
       "      <th>NAME_EDUCATION_TYPE</th>\n",
       "      <th>NAME_FAMILY_STATUS</th>\n",
       "      <th>NAME_HOUSING_TYPE</th>\n",
       "      <th>DAYS_BIRTH</th>\n",
       "      <th>DAYS_EMPLOYED</th>\n",
       "      <th>FLAG_MOBIL</th>\n",
       "      <th>FLAG_WORK_PHONE</th>\n",
       "      <th>FLAG_PHONE</th>\n",
       "      <th>FLAG_EMAIL</th>\n",
       "      <th>OCCUPATION_TYPE</th>\n",
       "      <th>CNT_FAM_MEMBERS</th>\n",
       "    </tr>\n",
       "  </thead>\n",
       "  <tbody>\n",
       "    <tr>\n",
       "      <th>0</th>\n",
       "      <td>5008804</td>\n",
       "      <td>M</td>\n",
       "      <td>Y</td>\n",
       "      <td>Y</td>\n",
       "      <td>0</td>\n",
       "      <td>427500.0</td>\n",
       "      <td>Working</td>\n",
       "      <td>Higher education</td>\n",
       "      <td>Civil marriage</td>\n",
       "      <td>Rented apartment</td>\n",
       "      <td>-12005</td>\n",
       "      <td>-4542</td>\n",
       "      <td>1</td>\n",
       "      <td>1</td>\n",
       "      <td>0</td>\n",
       "      <td>0</td>\n",
       "      <td>NaN</td>\n",
       "      <td>2.0</td>\n",
       "    </tr>\n",
       "    <tr>\n",
       "      <th>2</th>\n",
       "      <td>5008806</td>\n",
       "      <td>M</td>\n",
       "      <td>Y</td>\n",
       "      <td>Y</td>\n",
       "      <td>0</td>\n",
       "      <td>112500.0</td>\n",
       "      <td>Working</td>\n",
       "      <td>Secondary / secondary special</td>\n",
       "      <td>Married</td>\n",
       "      <td>House / apartment</td>\n",
       "      <td>-21474</td>\n",
       "      <td>-1134</td>\n",
       "      <td>1</td>\n",
       "      <td>0</td>\n",
       "      <td>0</td>\n",
       "      <td>0</td>\n",
       "      <td>Security staff</td>\n",
       "      <td>2.0</td>\n",
       "    </tr>\n",
       "    <tr>\n",
       "      <th>3</th>\n",
       "      <td>5008808</td>\n",
       "      <td>F</td>\n",
       "      <td>N</td>\n",
       "      <td>Y</td>\n",
       "      <td>0</td>\n",
       "      <td>270000.0</td>\n",
       "      <td>Commercial associate</td>\n",
       "      <td>Secondary / secondary special</td>\n",
       "      <td>Single / not married</td>\n",
       "      <td>House / apartment</td>\n",
       "      <td>-19110</td>\n",
       "      <td>-3051</td>\n",
       "      <td>1</td>\n",
       "      <td>0</td>\n",
       "      <td>1</td>\n",
       "      <td>1</td>\n",
       "      <td>Sales staff</td>\n",
       "      <td>1.0</td>\n",
       "    </tr>\n",
       "    <tr>\n",
       "      <th>7</th>\n",
       "      <td>5008812</td>\n",
       "      <td>F</td>\n",
       "      <td>N</td>\n",
       "      <td>Y</td>\n",
       "      <td>0</td>\n",
       "      <td>283500.0</td>\n",
       "      <td>Pensioner</td>\n",
       "      <td>Higher education</td>\n",
       "      <td>Separated</td>\n",
       "      <td>House / apartment</td>\n",
       "      <td>-22464</td>\n",
       "      <td>365243</td>\n",
       "      <td>1</td>\n",
       "      <td>0</td>\n",
       "      <td>0</td>\n",
       "      <td>0</td>\n",
       "      <td>NaN</td>\n",
       "      <td>1.0</td>\n",
       "    </tr>\n",
       "    <tr>\n",
       "      <th>10</th>\n",
       "      <td>5008815</td>\n",
       "      <td>M</td>\n",
       "      <td>Y</td>\n",
       "      <td>Y</td>\n",
       "      <td>0</td>\n",
       "      <td>270000.0</td>\n",
       "      <td>Working</td>\n",
       "      <td>Higher education</td>\n",
       "      <td>Married</td>\n",
       "      <td>House / apartment</td>\n",
       "      <td>-16872</td>\n",
       "      <td>-769</td>\n",
       "      <td>1</td>\n",
       "      <td>1</td>\n",
       "      <td>1</td>\n",
       "      <td>1</td>\n",
       "      <td>Accountants</td>\n",
       "      <td>2.0</td>\n",
       "    </tr>\n",
       "    <tr>\n",
       "      <th>...</th>\n",
       "      <td>...</td>\n",
       "      <td>...</td>\n",
       "      <td>...</td>\n",
       "      <td>...</td>\n",
       "      <td>...</td>\n",
       "      <td>...</td>\n",
       "      <td>...</td>\n",
       "      <td>...</td>\n",
       "      <td>...</td>\n",
       "      <td>...</td>\n",
       "      <td>...</td>\n",
       "      <td>...</td>\n",
       "      <td>...</td>\n",
       "      <td>...</td>\n",
       "      <td>...</td>\n",
       "      <td>...</td>\n",
       "      <td>...</td>\n",
       "      <td>...</td>\n",
       "    </tr>\n",
       "    <tr>\n",
       "      <th>438541</th>\n",
       "      <td>6837707</td>\n",
       "      <td>M</td>\n",
       "      <td>N</td>\n",
       "      <td>Y</td>\n",
       "      <td>0</td>\n",
       "      <td>202500.0</td>\n",
       "      <td>Working</td>\n",
       "      <td>Higher education</td>\n",
       "      <td>Civil marriage</td>\n",
       "      <td>House / apartment</td>\n",
       "      <td>-13510</td>\n",
       "      <td>-2309</td>\n",
       "      <td>1</td>\n",
       "      <td>1</td>\n",
       "      <td>0</td>\n",
       "      <td>0</td>\n",
       "      <td>Laborers</td>\n",
       "      <td>2.0</td>\n",
       "    </tr>\n",
       "    <tr>\n",
       "      <th>438545</th>\n",
       "      <td>6839651</td>\n",
       "      <td>F</td>\n",
       "      <td>N</td>\n",
       "      <td>Y</td>\n",
       "      <td>3</td>\n",
       "      <td>99000.0</td>\n",
       "      <td>Pensioner</td>\n",
       "      <td>Secondary / secondary special</td>\n",
       "      <td>Single / not married</td>\n",
       "      <td>House / apartment</td>\n",
       "      <td>-18832</td>\n",
       "      <td>365243</td>\n",
       "      <td>1</td>\n",
       "      <td>0</td>\n",
       "      <td>0</td>\n",
       "      <td>0</td>\n",
       "      <td>NaN</td>\n",
       "      <td>1.0</td>\n",
       "    </tr>\n",
       "    <tr>\n",
       "      <th>438547</th>\n",
       "      <td>6839917</td>\n",
       "      <td>F</td>\n",
       "      <td>N</td>\n",
       "      <td>Y</td>\n",
       "      <td>0</td>\n",
       "      <td>180000.0</td>\n",
       "      <td>Pensioner</td>\n",
       "      <td>Higher education</td>\n",
       "      <td>Married</td>\n",
       "      <td>House / apartment</td>\n",
       "      <td>-10966</td>\n",
       "      <td>-2704</td>\n",
       "      <td>1</td>\n",
       "      <td>0</td>\n",
       "      <td>0</td>\n",
       "      <td>0</td>\n",
       "      <td>NaN</td>\n",
       "      <td>2.0</td>\n",
       "    </tr>\n",
       "    <tr>\n",
       "      <th>438552</th>\n",
       "      <td>6840104</td>\n",
       "      <td>M</td>\n",
       "      <td>N</td>\n",
       "      <td>Y</td>\n",
       "      <td>0</td>\n",
       "      <td>135000.0</td>\n",
       "      <td>Pensioner</td>\n",
       "      <td>Secondary / secondary special</td>\n",
       "      <td>Separated</td>\n",
       "      <td>House / apartment</td>\n",
       "      <td>-22717</td>\n",
       "      <td>365243</td>\n",
       "      <td>1</td>\n",
       "      <td>0</td>\n",
       "      <td>0</td>\n",
       "      <td>0</td>\n",
       "      <td>NaN</td>\n",
       "      <td>1.0</td>\n",
       "    </tr>\n",
       "    <tr>\n",
       "      <th>438553</th>\n",
       "      <td>6840222</td>\n",
       "      <td>F</td>\n",
       "      <td>N</td>\n",
       "      <td>N</td>\n",
       "      <td>0</td>\n",
       "      <td>103500.0</td>\n",
       "      <td>Working</td>\n",
       "      <td>Secondary / secondary special</td>\n",
       "      <td>Single / not married</td>\n",
       "      <td>House / apartment</td>\n",
       "      <td>-15939</td>\n",
       "      <td>-3007</td>\n",
       "      <td>1</td>\n",
       "      <td>0</td>\n",
       "      <td>0</td>\n",
       "      <td>0</td>\n",
       "      <td>Laborers</td>\n",
       "      <td>1.0</td>\n",
       "    </tr>\n",
       "  </tbody>\n",
       "</table>\n",
       "<p>90085 rows × 18 columns</p>\n",
       "</div>"
      ],
      "text/plain": [
       "             ID CODE_GENDER FLAG_OWN_CAR FLAG_OWN_REALTY  CNT_CHILDREN  \\\n",
       "0       5008804           M            Y               Y             0   \n",
       "2       5008806           M            Y               Y             0   \n",
       "3       5008808           F            N               Y             0   \n",
       "7       5008812           F            N               Y             0   \n",
       "10      5008815           M            Y               Y             0   \n",
       "...         ...         ...          ...             ...           ...   \n",
       "438541  6837707           M            N               Y             0   \n",
       "438545  6839651           F            N               Y             3   \n",
       "438547  6839917           F            N               Y             0   \n",
       "438552  6840104           M            N               Y             0   \n",
       "438553  6840222           F            N               N             0   \n",
       "\n",
       "        AMT_INCOME_TOTAL      NAME_INCOME_TYPE            NAME_EDUCATION_TYPE  \\\n",
       "0               427500.0               Working               Higher education   \n",
       "2               112500.0               Working  Secondary / secondary special   \n",
       "3               270000.0  Commercial associate  Secondary / secondary special   \n",
       "7               283500.0             Pensioner               Higher education   \n",
       "10              270000.0               Working               Higher education   \n",
       "...                  ...                   ...                            ...   \n",
       "438541          202500.0               Working               Higher education   \n",
       "438545           99000.0             Pensioner  Secondary / secondary special   \n",
       "438547          180000.0             Pensioner               Higher education   \n",
       "438552          135000.0             Pensioner  Secondary / secondary special   \n",
       "438553          103500.0               Working  Secondary / secondary special   \n",
       "\n",
       "          NAME_FAMILY_STATUS  NAME_HOUSING_TYPE  DAYS_BIRTH  DAYS_EMPLOYED  \\\n",
       "0             Civil marriage   Rented apartment      -12005          -4542   \n",
       "2                    Married  House / apartment      -21474          -1134   \n",
       "3       Single / not married  House / apartment      -19110          -3051   \n",
       "7                  Separated  House / apartment      -22464         365243   \n",
       "10                   Married  House / apartment      -16872           -769   \n",
       "...                      ...                ...         ...            ...   \n",
       "438541        Civil marriage  House / apartment      -13510          -2309   \n",
       "438545  Single / not married  House / apartment      -18832         365243   \n",
       "438547               Married  House / apartment      -10966          -2704   \n",
       "438552             Separated  House / apartment      -22717         365243   \n",
       "438553  Single / not married  House / apartment      -15939          -3007   \n",
       "\n",
       "        FLAG_MOBIL  FLAG_WORK_PHONE  FLAG_PHONE  FLAG_EMAIL OCCUPATION_TYPE  \\\n",
       "0                1                1           0           0             NaN   \n",
       "2                1                0           0           0  Security staff   \n",
       "3                1                0           1           1     Sales staff   \n",
       "7                1                0           0           0             NaN   \n",
       "10               1                1           1           1     Accountants   \n",
       "...            ...              ...         ...         ...             ...   \n",
       "438541           1                1           0           0        Laborers   \n",
       "438545           1                0           0           0             NaN   \n",
       "438547           1                0           0           0             NaN   \n",
       "438552           1                0           0           0             NaN   \n",
       "438553           1                0           0           0        Laborers   \n",
       "\n",
       "        CNT_FAM_MEMBERS  \n",
       "0                   2.0  \n",
       "2                   2.0  \n",
       "3                   1.0  \n",
       "7                   1.0  \n",
       "10                  2.0  \n",
       "...                 ...  \n",
       "438541              2.0  \n",
       "438545              1.0  \n",
       "438547              2.0  \n",
       "438552              1.0  \n",
       "438553              1.0  \n",
       "\n",
       "[90085 rows x 18 columns]"
      ]
     },
     "execution_count": 15,
     "metadata": {},
     "output_type": "execute_result"
    }
   ],
   "source": [
    "application_data.drop_duplicates(subset=list(set(application_data.columns) - {'ID'}), inplace=True)\n",
    "application_data"
   ]
  },
  {
   "cell_type": "code",
   "execution_count": 16,
   "id": "8730764e",
   "metadata": {
    "execution": {
     "iopub.execute_input": "2022-12-12T09:57:43.941241Z",
     "iopub.status.busy": "2022-12-12T09:57:43.940828Z",
     "iopub.status.idle": "2022-12-12T09:57:44.005320Z",
     "shell.execute_reply": "2022-12-12T09:57:44.004419Z"
    },
    "papermill": {
     "duration": 0.082498,
     "end_time": "2022-12-12T09:57:44.007356",
     "exception": false,
     "start_time": "2022-12-12T09:57:43.924858",
     "status": "completed"
    },
    "tags": []
   },
   "outputs": [
    {
     "data": {
      "text/html": [
       "<div>\n",
       "<style scoped>\n",
       "    .dataframe tbody tr th:only-of-type {\n",
       "        vertical-align: middle;\n",
       "    }\n",
       "\n",
       "    .dataframe tbody tr th {\n",
       "        vertical-align: top;\n",
       "    }\n",
       "\n",
       "    .dataframe thead th {\n",
       "        text-align: right;\n",
       "    }\n",
       "</style>\n",
       "<table border=\"1\" class=\"dataframe\">\n",
       "  <thead>\n",
       "    <tr style=\"text-align: right;\">\n",
       "      <th></th>\n",
       "      <th>ID</th>\n",
       "      <th>CODE_GENDER</th>\n",
       "      <th>FLAG_OWN_CAR</th>\n",
       "      <th>FLAG_OWN_REALTY</th>\n",
       "      <th>CNT_CHILDREN</th>\n",
       "      <th>AMT_INCOME_TOTAL</th>\n",
       "      <th>NAME_INCOME_TYPE</th>\n",
       "      <th>NAME_EDUCATION_TYPE</th>\n",
       "      <th>NAME_FAMILY_STATUS</th>\n",
       "      <th>NAME_HOUSING_TYPE</th>\n",
       "      <th>DAYS_BIRTH</th>\n",
       "      <th>DAYS_EMPLOYED</th>\n",
       "      <th>FLAG_MOBIL</th>\n",
       "      <th>FLAG_WORK_PHONE</th>\n",
       "      <th>FLAG_PHONE</th>\n",
       "      <th>FLAG_EMAIL</th>\n",
       "      <th>OCCUPATION_TYPE</th>\n",
       "      <th>CNT_FAM_MEMBERS</th>\n",
       "      <th>STATUS</th>\n",
       "    </tr>\n",
       "  </thead>\n",
       "  <tbody>\n",
       "    <tr>\n",
       "      <th>0</th>\n",
       "      <td>5008804</td>\n",
       "      <td>M</td>\n",
       "      <td>Y</td>\n",
       "      <td>Y</td>\n",
       "      <td>0</td>\n",
       "      <td>427500.0</td>\n",
       "      <td>Working</td>\n",
       "      <td>Higher education</td>\n",
       "      <td>Civil marriage</td>\n",
       "      <td>Rented apartment</td>\n",
       "      <td>-12005</td>\n",
       "      <td>-4542</td>\n",
       "      <td>1</td>\n",
       "      <td>1</td>\n",
       "      <td>0</td>\n",
       "      <td>0</td>\n",
       "      <td>NaN</td>\n",
       "      <td>2.0</td>\n",
       "      <td>1</td>\n",
       "    </tr>\n",
       "    <tr>\n",
       "      <th>1</th>\n",
       "      <td>5008806</td>\n",
       "      <td>M</td>\n",
       "      <td>Y</td>\n",
       "      <td>Y</td>\n",
       "      <td>0</td>\n",
       "      <td>112500.0</td>\n",
       "      <td>Working</td>\n",
       "      <td>Secondary / secondary special</td>\n",
       "      <td>Married</td>\n",
       "      <td>House / apartment</td>\n",
       "      <td>-21474</td>\n",
       "      <td>-1134</td>\n",
       "      <td>1</td>\n",
       "      <td>0</td>\n",
       "      <td>0</td>\n",
       "      <td>0</td>\n",
       "      <td>Security staff</td>\n",
       "      <td>2.0</td>\n",
       "      <td>1</td>\n",
       "    </tr>\n",
       "    <tr>\n",
       "      <th>2</th>\n",
       "      <td>5008808</td>\n",
       "      <td>F</td>\n",
       "      <td>N</td>\n",
       "      <td>Y</td>\n",
       "      <td>0</td>\n",
       "      <td>270000.0</td>\n",
       "      <td>Commercial associate</td>\n",
       "      <td>Secondary / secondary special</td>\n",
       "      <td>Single / not married</td>\n",
       "      <td>House / apartment</td>\n",
       "      <td>-19110</td>\n",
       "      <td>-3051</td>\n",
       "      <td>1</td>\n",
       "      <td>0</td>\n",
       "      <td>1</td>\n",
       "      <td>1</td>\n",
       "      <td>Sales staff</td>\n",
       "      <td>1.0</td>\n",
       "      <td>1</td>\n",
       "    </tr>\n",
       "    <tr>\n",
       "      <th>3</th>\n",
       "      <td>5008812</td>\n",
       "      <td>F</td>\n",
       "      <td>N</td>\n",
       "      <td>Y</td>\n",
       "      <td>0</td>\n",
       "      <td>283500.0</td>\n",
       "      <td>Pensioner</td>\n",
       "      <td>Higher education</td>\n",
       "      <td>Separated</td>\n",
       "      <td>House / apartment</td>\n",
       "      <td>-22464</td>\n",
       "      <td>365243</td>\n",
       "      <td>1</td>\n",
       "      <td>0</td>\n",
       "      <td>0</td>\n",
       "      <td>0</td>\n",
       "      <td>NaN</td>\n",
       "      <td>1.0</td>\n",
       "      <td>1</td>\n",
       "    </tr>\n",
       "    <tr>\n",
       "      <th>4</th>\n",
       "      <td>5008815</td>\n",
       "      <td>M</td>\n",
       "      <td>Y</td>\n",
       "      <td>Y</td>\n",
       "      <td>0</td>\n",
       "      <td>270000.0</td>\n",
       "      <td>Working</td>\n",
       "      <td>Higher education</td>\n",
       "      <td>Married</td>\n",
       "      <td>House / apartment</td>\n",
       "      <td>-16872</td>\n",
       "      <td>-769</td>\n",
       "      <td>1</td>\n",
       "      <td>1</td>\n",
       "      <td>1</td>\n",
       "      <td>1</td>\n",
       "      <td>Accountants</td>\n",
       "      <td>2.0</td>\n",
       "      <td>1</td>\n",
       "    </tr>\n",
       "    <tr>\n",
       "      <th>...</th>\n",
       "      <td>...</td>\n",
       "      <td>...</td>\n",
       "      <td>...</td>\n",
       "      <td>...</td>\n",
       "      <td>...</td>\n",
       "      <td>...</td>\n",
       "      <td>...</td>\n",
       "      <td>...</td>\n",
       "      <td>...</td>\n",
       "      <td>...</td>\n",
       "      <td>...</td>\n",
       "      <td>...</td>\n",
       "      <td>...</td>\n",
       "      <td>...</td>\n",
       "      <td>...</td>\n",
       "      <td>...</td>\n",
       "      <td>...</td>\n",
       "      <td>...</td>\n",
       "      <td>...</td>\n",
       "    </tr>\n",
       "    <tr>\n",
       "      <th>9704</th>\n",
       "      <td>5148694</td>\n",
       "      <td>F</td>\n",
       "      <td>N</td>\n",
       "      <td>N</td>\n",
       "      <td>0</td>\n",
       "      <td>180000.0</td>\n",
       "      <td>Pensioner</td>\n",
       "      <td>Secondary / secondary special</td>\n",
       "      <td>Civil marriage</td>\n",
       "      <td>Municipal apartment</td>\n",
       "      <td>-20600</td>\n",
       "      <td>-198</td>\n",
       "      <td>1</td>\n",
       "      <td>0</td>\n",
       "      <td>0</td>\n",
       "      <td>0</td>\n",
       "      <td>Laborers</td>\n",
       "      <td>2.0</td>\n",
       "      <td>1</td>\n",
       "    </tr>\n",
       "    <tr>\n",
       "      <th>9705</th>\n",
       "      <td>5149055</td>\n",
       "      <td>F</td>\n",
       "      <td>N</td>\n",
       "      <td>Y</td>\n",
       "      <td>0</td>\n",
       "      <td>112500.0</td>\n",
       "      <td>Commercial associate</td>\n",
       "      <td>Secondary / secondary special</td>\n",
       "      <td>Married</td>\n",
       "      <td>House / apartment</td>\n",
       "      <td>-15837</td>\n",
       "      <td>-2694</td>\n",
       "      <td>1</td>\n",
       "      <td>1</td>\n",
       "      <td>1</td>\n",
       "      <td>0</td>\n",
       "      <td>NaN</td>\n",
       "      <td>2.0</td>\n",
       "      <td>1</td>\n",
       "    </tr>\n",
       "    <tr>\n",
       "      <th>9706</th>\n",
       "      <td>5149729</td>\n",
       "      <td>M</td>\n",
       "      <td>Y</td>\n",
       "      <td>Y</td>\n",
       "      <td>0</td>\n",
       "      <td>90000.0</td>\n",
       "      <td>Working</td>\n",
       "      <td>Secondary / secondary special</td>\n",
       "      <td>Married</td>\n",
       "      <td>House / apartment</td>\n",
       "      <td>-19101</td>\n",
       "      <td>-1721</td>\n",
       "      <td>1</td>\n",
       "      <td>0</td>\n",
       "      <td>0</td>\n",
       "      <td>0</td>\n",
       "      <td>NaN</td>\n",
       "      <td>2.0</td>\n",
       "      <td>1</td>\n",
       "    </tr>\n",
       "    <tr>\n",
       "      <th>9707</th>\n",
       "      <td>5149838</td>\n",
       "      <td>F</td>\n",
       "      <td>N</td>\n",
       "      <td>Y</td>\n",
       "      <td>0</td>\n",
       "      <td>157500.0</td>\n",
       "      <td>Pensioner</td>\n",
       "      <td>Higher education</td>\n",
       "      <td>Married</td>\n",
       "      <td>House / apartment</td>\n",
       "      <td>-12387</td>\n",
       "      <td>-1325</td>\n",
       "      <td>1</td>\n",
       "      <td>0</td>\n",
       "      <td>1</td>\n",
       "      <td>1</td>\n",
       "      <td>Medicine staff</td>\n",
       "      <td>2.0</td>\n",
       "      <td>0</td>\n",
       "    </tr>\n",
       "    <tr>\n",
       "      <th>9708</th>\n",
       "      <td>5150337</td>\n",
       "      <td>M</td>\n",
       "      <td>N</td>\n",
       "      <td>Y</td>\n",
       "      <td>0</td>\n",
       "      <td>112500.0</td>\n",
       "      <td>Working</td>\n",
       "      <td>Secondary / secondary special</td>\n",
       "      <td>Single / not married</td>\n",
       "      <td>Rented apartment</td>\n",
       "      <td>-9188</td>\n",
       "      <td>-1193</td>\n",
       "      <td>1</td>\n",
       "      <td>0</td>\n",
       "      <td>0</td>\n",
       "      <td>0</td>\n",
       "      <td>Laborers</td>\n",
       "      <td>1.0</td>\n",
       "      <td>1</td>\n",
       "    </tr>\n",
       "  </tbody>\n",
       "</table>\n",
       "<p>9709 rows × 19 columns</p>\n",
       "</div>"
      ],
      "text/plain": [
       "           ID CODE_GENDER FLAG_OWN_CAR FLAG_OWN_REALTY  CNT_CHILDREN  \\\n",
       "0     5008804           M            Y               Y             0   \n",
       "1     5008806           M            Y               Y             0   \n",
       "2     5008808           F            N               Y             0   \n",
       "3     5008812           F            N               Y             0   \n",
       "4     5008815           M            Y               Y             0   \n",
       "...       ...         ...          ...             ...           ...   \n",
       "9704  5148694           F            N               N             0   \n",
       "9705  5149055           F            N               Y             0   \n",
       "9706  5149729           M            Y               Y             0   \n",
       "9707  5149838           F            N               Y             0   \n",
       "9708  5150337           M            N               Y             0   \n",
       "\n",
       "      AMT_INCOME_TOTAL      NAME_INCOME_TYPE            NAME_EDUCATION_TYPE  \\\n",
       "0             427500.0               Working               Higher education   \n",
       "1             112500.0               Working  Secondary / secondary special   \n",
       "2             270000.0  Commercial associate  Secondary / secondary special   \n",
       "3             283500.0             Pensioner               Higher education   \n",
       "4             270000.0               Working               Higher education   \n",
       "...                ...                   ...                            ...   \n",
       "9704          180000.0             Pensioner  Secondary / secondary special   \n",
       "9705          112500.0  Commercial associate  Secondary / secondary special   \n",
       "9706           90000.0               Working  Secondary / secondary special   \n",
       "9707          157500.0             Pensioner               Higher education   \n",
       "9708          112500.0               Working  Secondary / secondary special   \n",
       "\n",
       "        NAME_FAMILY_STATUS    NAME_HOUSING_TYPE  DAYS_BIRTH  DAYS_EMPLOYED  \\\n",
       "0           Civil marriage     Rented apartment      -12005          -4542   \n",
       "1                  Married    House / apartment      -21474          -1134   \n",
       "2     Single / not married    House / apartment      -19110          -3051   \n",
       "3                Separated    House / apartment      -22464         365243   \n",
       "4                  Married    House / apartment      -16872           -769   \n",
       "...                    ...                  ...         ...            ...   \n",
       "9704        Civil marriage  Municipal apartment      -20600           -198   \n",
       "9705               Married    House / apartment      -15837          -2694   \n",
       "9706               Married    House / apartment      -19101          -1721   \n",
       "9707               Married    House / apartment      -12387          -1325   \n",
       "9708  Single / not married     Rented apartment       -9188          -1193   \n",
       "\n",
       "      FLAG_MOBIL  FLAG_WORK_PHONE  FLAG_PHONE  FLAG_EMAIL OCCUPATION_TYPE  \\\n",
       "0              1                1           0           0             NaN   \n",
       "1              1                0           0           0  Security staff   \n",
       "2              1                0           1           1     Sales staff   \n",
       "3              1                0           0           0             NaN   \n",
       "4              1                1           1           1     Accountants   \n",
       "...          ...              ...         ...         ...             ...   \n",
       "9704           1                0           0           0        Laborers   \n",
       "9705           1                1           1           0             NaN   \n",
       "9706           1                0           0           0             NaN   \n",
       "9707           1                0           1           1  Medicine staff   \n",
       "9708           1                0           0           0        Laborers   \n",
       "\n",
       "      CNT_FAM_MEMBERS  STATUS  \n",
       "0                 2.0       1  \n",
       "1                 2.0       1  \n",
       "2                 1.0       1  \n",
       "3                 1.0       1  \n",
       "4                 2.0       1  \n",
       "...               ...     ...  \n",
       "9704              2.0       1  \n",
       "9705              2.0       1  \n",
       "9706              2.0       1  \n",
       "9707              2.0       0  \n",
       "9708              1.0       1  \n",
       "\n",
       "[9709 rows x 19 columns]"
      ]
     },
     "execution_count": 16,
     "metadata": {},
     "output_type": "execute_result"
    }
   ],
   "source": [
    "merged_df = pd.merge(left=application_data, right=df, how=\"inner\", on=\"ID\")\n",
    "merged_df"
   ]
  },
  {
   "cell_type": "code",
   "execution_count": 17,
   "id": "c552ceac",
   "metadata": {
    "execution": {
     "iopub.execute_input": "2022-12-12T09:57:44.039923Z",
     "iopub.status.busy": "2022-12-12T09:57:44.039498Z",
     "iopub.status.idle": "2022-12-12T09:57:44.054983Z",
     "shell.execute_reply": "2022-12-12T09:57:44.053818Z"
    },
    "papermill": {
     "duration": 0.034873,
     "end_time": "2022-12-12T09:57:44.057385",
     "exception": false,
     "start_time": "2022-12-12T09:57:44.022512",
     "status": "completed"
    },
    "tags": []
   },
   "outputs": [
    {
     "data": {
      "text/plain": [
       "ID                        0\n",
       "CODE_GENDER               0\n",
       "FLAG_OWN_CAR              0\n",
       "FLAG_OWN_REALTY           0\n",
       "CNT_CHILDREN              0\n",
       "AMT_INCOME_TOTAL          0\n",
       "NAME_INCOME_TYPE          0\n",
       "NAME_EDUCATION_TYPE       0\n",
       "NAME_FAMILY_STATUS        0\n",
       "NAME_HOUSING_TYPE         0\n",
       "DAYS_BIRTH                0\n",
       "DAYS_EMPLOYED             0\n",
       "FLAG_MOBIL                0\n",
       "FLAG_WORK_PHONE           0\n",
       "FLAG_PHONE                0\n",
       "FLAG_EMAIL                0\n",
       "OCCUPATION_TYPE        2994\n",
       "CNT_FAM_MEMBERS           0\n",
       "STATUS                    0\n",
       "dtype: int64"
      ]
     },
     "execution_count": 17,
     "metadata": {},
     "output_type": "execute_result"
    }
   ],
   "source": [
    "merged_df.isnull().sum()"
   ]
  },
  {
   "cell_type": "code",
   "execution_count": 18,
   "id": "9bcdd452",
   "metadata": {
    "execution": {
     "iopub.execute_input": "2022-12-12T09:57:44.090214Z",
     "iopub.status.busy": "2022-12-12T09:57:44.089140Z",
     "iopub.status.idle": "2022-12-12T09:57:44.119959Z",
     "shell.execute_reply": "2022-12-12T09:57:44.119065Z"
    },
    "papermill": {
     "duration": 0.049958,
     "end_time": "2022-12-12T09:57:44.122579",
     "exception": false,
     "start_time": "2022-12-12T09:57:44.072621",
     "status": "completed"
    },
    "tags": []
   },
   "outputs": [],
   "source": [
    "##Convert fields values and cast them into the right data types\n",
    "merged_df['CODE_GENDER'].replace('M',0,inplace=True)\n",
    "merged_df['CODE_GENDER'].replace('F',1,inplace=True)\n",
    "merged_df['FLAG_OWN_CAR'].replace('Y',0,inplace=True)\n",
    "merged_df['FLAG_OWN_CAR'].replace('N',1,inplace=True)\n",
    "merged_df['FLAG_OWN_REALTY'].replace('Y',0,inplace=True)\n",
    "merged_df['FLAG_OWN_REALTY'].replace('N',1,inplace=True)\n",
    "merged_df['NAME_INCOME_TYPE'] = merged_df['NAME_INCOME_TYPE'].astype('category')\n",
    "merged_df['NAME_EDUCATION_TYPE'] = merged_df['NAME_EDUCATION_TYPE'].astype('category')\n",
    "merged_df['NAME_FAMILY_STATUS'] = merged_df['NAME_FAMILY_STATUS'].astype('category')\n",
    "merged_df['NAME_HOUSING_TYPE'] = merged_df['NAME_HOUSING_TYPE'].astype('category')\n",
    "merged_df['OCCUPATION_TYPE'] = merged_df['OCCUPATION_TYPE'].astype('category')"
   ]
  },
  {
   "cell_type": "code",
   "execution_count": 19,
   "id": "7187e4fb",
   "metadata": {
    "execution": {
     "iopub.execute_input": "2022-12-12T09:57:44.155348Z",
     "iopub.status.busy": "2022-12-12T09:57:44.154728Z",
     "iopub.status.idle": "2022-12-12T09:57:44.172012Z",
     "shell.execute_reply": "2022-12-12T09:57:44.170546Z"
    },
    "papermill": {
     "duration": 0.037119,
     "end_time": "2022-12-12T09:57:44.175319",
     "exception": false,
     "start_time": "2022-12-12T09:57:44.138200",
     "status": "completed"
    },
    "tags": []
   },
   "outputs": [
    {
     "name": "stdout",
     "output_type": "stream",
     "text": [
      "<class 'pandas.core.frame.DataFrame'>\n",
      "Int64Index: 9709 entries, 0 to 9708\n",
      "Data columns (total 19 columns):\n",
      " #   Column               Non-Null Count  Dtype   \n",
      "---  ------               --------------  -----   \n",
      " 0   ID                   9709 non-null   int64   \n",
      " 1   CODE_GENDER          9709 non-null   int64   \n",
      " 2   FLAG_OWN_CAR         9709 non-null   int64   \n",
      " 3   FLAG_OWN_REALTY      9709 non-null   int64   \n",
      " 4   CNT_CHILDREN         9709 non-null   int64   \n",
      " 5   AMT_INCOME_TOTAL     9709 non-null   float64 \n",
      " 6   NAME_INCOME_TYPE     9709 non-null   category\n",
      " 7   NAME_EDUCATION_TYPE  9709 non-null   category\n",
      " 8   NAME_FAMILY_STATUS   9709 non-null   category\n",
      " 9   NAME_HOUSING_TYPE    9709 non-null   category\n",
      " 10  DAYS_BIRTH           9709 non-null   int64   \n",
      " 11  DAYS_EMPLOYED        9709 non-null   int64   \n",
      " 12  FLAG_MOBIL           9709 non-null   int64   \n",
      " 13  FLAG_WORK_PHONE      9709 non-null   int64   \n",
      " 14  FLAG_PHONE           9709 non-null   int64   \n",
      " 15  FLAG_EMAIL           9709 non-null   int64   \n",
      " 16  OCCUPATION_TYPE      6715 non-null   category\n",
      " 17  CNT_FAM_MEMBERS      9709 non-null   float64 \n",
      " 18  STATUS               9709 non-null   int64   \n",
      "dtypes: category(5), float64(2), int64(12)\n",
      "memory usage: 1.2 MB\n"
     ]
    }
   ],
   "source": [
    "merged_df.info()"
   ]
  },
  {
   "cell_type": "code",
   "execution_count": 20,
   "id": "03091797",
   "metadata": {
    "execution": {
     "iopub.execute_input": "2022-12-12T09:57:44.208863Z",
     "iopub.status.busy": "2022-12-12T09:57:44.208468Z",
     "iopub.status.idle": "2022-12-12T09:57:44.216582Z",
     "shell.execute_reply": "2022-12-12T09:57:44.215404Z"
    },
    "papermill": {
     "duration": 0.027452,
     "end_time": "2022-12-12T09:57:44.218689",
     "exception": false,
     "start_time": "2022-12-12T09:57:44.191237",
     "status": "completed"
    },
    "tags": []
   },
   "outputs": [
    {
     "data": {
      "text/plain": [
       "1    9709\n",
       "Name: FLAG_MOBIL, dtype: int64"
      ]
     },
     "execution_count": 20,
     "metadata": {},
     "output_type": "execute_result"
    }
   ],
   "source": [
    "merged_df['FLAG_MOBIL'].value_counts()"
   ]
  },
  {
   "cell_type": "code",
   "execution_count": 21,
   "id": "f3d04992",
   "metadata": {
    "execution": {
     "iopub.execute_input": "2022-12-12T09:57:44.251587Z",
     "iopub.status.busy": "2022-12-12T09:57:44.250859Z",
     "iopub.status.idle": "2022-12-12T09:57:45.543398Z",
     "shell.execute_reply": "2022-12-12T09:57:45.542201Z"
    },
    "papermill": {
     "duration": 1.313884,
     "end_time": "2022-12-12T09:57:45.547853",
     "exception": false,
     "start_time": "2022-12-12T09:57:44.233969",
     "status": "completed"
    },
    "tags": []
   },
   "outputs": [
    {
     "data": {
      "text/plain": [
       "<AxesSubplot:>"
      ]
     },
     "execution_count": 21,
     "metadata": {},
     "output_type": "execute_result"
    },
    {
     "data": {
      "image/png": "[encoded data removed]",
      "text/plain": [
       "<Figure size 864x864 with 2 Axes>"
      ]
     },
     "metadata": {},
     "output_type": "display_data"
    }
   ],
   "source": [
    "fig, ax = plt.subplots(figsize=(12,12))\n",
    "sns.heatmap(merged_df.corr(),annot=True)"
   ]
  },
  {
   "cell_type": "code",
   "execution_count": 22,
   "id": "09a8a676",
   "metadata": {
    "execution": {
     "iopub.execute_input": "2022-12-12T09:57:45.587243Z",
     "iopub.status.busy": "2022-12-12T09:57:45.586226Z",
     "iopub.status.idle": "2022-12-12T09:57:45.593631Z",
     "shell.execute_reply": "2022-12-12T09:57:45.592803Z"
    },
    "papermill": {
     "duration": 0.029614,
     "end_time": "2022-12-12T09:57:45.596212",
     "exception": false,
     "start_time": "2022-12-12T09:57:45.566598",
     "status": "completed"
    },
    "tags": []
   },
   "outputs": [],
   "source": [
    "##We drop the following columns as containing too many null values or without any usefulness in the model training\n",
    "merged_df.drop([\"FLAG_MOBIL\",\"OCCUPATION_TYPE\", \"ID\"],axis=1,inplace=True)"
   ]
  },
  {
   "cell_type": "code",
   "execution_count": 23,
   "id": "4e7124d5",
   "metadata": {
    "execution": {
     "iopub.execute_input": "2022-12-12T09:57:45.643907Z",
     "iopub.status.busy": "2022-12-12T09:57:45.643424Z",
     "iopub.status.idle": "2022-12-12T09:57:45.657022Z",
     "shell.execute_reply": "2022-12-12T09:57:45.656193Z"
    },
    "papermill": {
     "duration": 0.0393,
     "end_time": "2022-12-12T09:57:45.659363",
     "exception": false,
     "start_time": "2022-12-12T09:57:45.620063",
     "status": "completed"
    },
    "tags": []
   },
   "outputs": [],
   "source": [
    "merged_df = pd.get_dummies(merged_df, columns = ['NAME_INCOME_TYPE', 'NAME_EDUCATION_TYPE', 'NAME_FAMILY_STATUS', 'NAME_HOUSING_TYPE'], drop_first = True)"
   ]
  },
  {
   "cell_type": "markdown",
   "id": "a4aa1fc6",
   "metadata": {
    "papermill": {
     "duration": 0.018204,
     "end_time": "2022-12-12T09:57:45.696236",
     "exception": false,
     "start_time": "2022-12-12T09:57:45.678032",
     "status": "completed"
    },
    "tags": []
   },
   "source": [
    "## Data modelling and prediction"
   ]
  },
  {
   "cell_type": "code",
   "execution_count": 24,
   "id": "048a8385",
   "metadata": {
    "execution": {
     "iopub.execute_input": "2022-12-12T09:57:45.735279Z",
     "iopub.status.busy": "2022-12-12T09:57:45.734089Z",
     "iopub.status.idle": "2022-12-12T09:57:47.098621Z",
     "shell.execute_reply": "2022-12-12T09:57:47.097243Z"
    },
    "papermill": {
     "duration": 1.386461,
     "end_time": "2022-12-12T09:57:47.101200",
     "exception": false,
     "start_time": "2022-12-12T09:57:45.714739",
     "status": "completed"
    },
    "tags": []
   },
   "outputs": [
    {
     "data": {
      "text/plain": [
       "1.0"
      ]
     },
     "execution_count": 24,
     "metadata": {},
     "output_type": "execute_result"
    }
   ],
   "source": [
    "from sklearn.ensemble import RandomForestClassifier \n",
    "x = merged_df.drop(\"STATUS\", axis=1)\n",
    "y = merged_df[\"STATUS\"]\n",
    "classifier = RandomForestClassifier()\n",
    "classifier.fit(x, y)\n",
    "classifier.score(x, y)"
   ]
  },
  {
   "cell_type": "code",
   "execution_count": 25,
   "id": "a559305c",
   "metadata": {
    "execution": {
     "iopub.execute_input": "2022-12-12T09:57:47.139852Z",
     "iopub.status.busy": "2022-12-12T09:57:47.139452Z",
     "iopub.status.idle": "2022-12-12T09:57:47.633794Z",
     "shell.execute_reply": "2022-12-12T09:57:47.632685Z"
    },
    "papermill": {
     "duration": 0.516843,
     "end_time": "2022-12-12T09:57:47.636414",
     "exception": false,
     "start_time": "2022-12-12T09:57:47.119571",
     "status": "completed"
    },
    "tags": []
   },
   "outputs": [
    {
     "name": "stderr",
     "output_type": "stream",
     "text": [
      "/opt/conda/lib/python3.7/site-packages/sklearn/utils/deprecation.py:87: FutureWarning: Function plot_confusion_matrix is deprecated; Function `plot_confusion_matrix` is deprecated in 1.0 and will be removed in 1.2. Use one of the class methods: ConfusionMatrixDisplay.from_predictions or ConfusionMatrixDisplay.from_estimator.\n",
      "  warnings.warn(msg, category=FutureWarning)\n"
     ]
    },
    {
     "data": {
      "text/plain": [
       "<sklearn.metrics._plot.confusion_matrix.ConfusionMatrixDisplay at 0x7f1510d68e90>"
      ]
     },
     "execution_count": 25,
     "metadata": {},
     "output_type": "execute_result"
    },
    {
     "data": {
      "image/png": "[encoded data removed]",
      "text/plain": [
       "<Figure size 1800x1080 with 2 Axes>"
      ]
     },
     "metadata": {},
     "output_type": "display_data"
    }
   ],
   "source": [
    "from sklearn.metrics import plot_confusion_matrix\n",
    "from sklearn.metrics import classification_report\n",
    "plot_confusion_matrix(classifier, x, y)"
   ]
  },
  {
   "cell_type": "markdown",
   "id": "fa27e2e7",
   "metadata": {
    "papermill": {
     "duration": 0.018315,
     "end_time": "2022-12-12T09:57:47.673355",
     "exception": false,
     "start_time": "2022-12-12T09:57:47.655040",
     "status": "completed"
    },
    "tags": []
   },
   "source": [
    "### As we can see from the above confusion matrix, we have a data imbalance pb to deal with with too few samples with the target variable status at 0 --> Model trained biased\n",
    "\n",
    "### **One solution is the under sampling of the class in majority**"
   ]
  },
  {
   "cell_type": "code",
   "execution_count": 26,
   "id": "7a81e9e1",
   "metadata": {
    "execution": {
     "iopub.execute_input": "2022-12-12T09:57:47.712381Z",
     "iopub.status.busy": "2022-12-12T09:57:47.711831Z",
     "iopub.status.idle": "2022-12-12T09:57:47.830505Z",
     "shell.execute_reply": "2022-12-12T09:57:47.829367Z"
    },
    "papermill": {
     "duration": 0.141322,
     "end_time": "2022-12-12T09:57:47.833450",
     "exception": false,
     "start_time": "2022-12-12T09:57:47.692128",
     "status": "completed"
    },
    "tags": []
   },
   "outputs": [],
   "source": [
    "from imblearn.under_sampling import NearMiss"
   ]
  },
  {
   "cell_type": "code",
   "execution_count": 27,
   "id": "7d97f3c2",
   "metadata": {
    "execution": {
     "iopub.execute_input": "2022-12-12T09:57:47.874607Z",
     "iopub.status.busy": "2022-12-12T09:57:47.873645Z",
     "iopub.status.idle": "2022-12-12T09:57:47.953249Z",
     "shell.execute_reply": "2022-12-12T09:57:47.951526Z"
    },
    "papermill": {
     "duration": 0.104912,
     "end_time": "2022-12-12T09:57:47.957534",
     "exception": false,
     "start_time": "2022-12-12T09:57:47.852622",
     "status": "completed"
    },
    "tags": []
   },
   "outputs": [
    {
     "data": {
      "text/plain": [
       "0    57\n",
       "1    57\n",
       "Name: STATUS, dtype: int64"
      ]
     },
     "execution_count": 27,
     "metadata": {},
     "output_type": "execute_result"
    }
   ],
   "source": [
    "undersample = NearMiss(version=1, n_neighbors=3)\n",
    "x_new, y_new = undersample.fit_resample(x, y)\n",
    "\n",
    "y_new.value_counts()"
   ]
  },
  {
   "cell_type": "code",
   "execution_count": 28,
   "id": "3f83f2e1",
   "metadata": {
    "execution": {
     "iopub.execute_input": "2022-12-12T09:57:48.031642Z",
     "iopub.status.busy": "2022-12-12T09:57:48.031133Z",
     "iopub.status.idle": "2022-12-12T09:57:48.275962Z",
     "shell.execute_reply": "2022-12-12T09:57:48.274696Z"
    },
    "papermill": {
     "duration": 0.273925,
     "end_time": "2022-12-12T09:57:48.278549",
     "exception": false,
     "start_time": "2022-12-12T09:57:48.004624",
     "status": "completed"
    },
    "tags": []
   },
   "outputs": [],
   "source": [
    "from sklearn.model_selection import train_test_split\n",
    "from sklearn.metrics import roc_auc_score\n",
    "from sklearn.metrics import accuracy_score, confusion_matrix\n",
    "from sklearn.linear_model import LogisticRegression\n",
    "from sklearn.tree import DecisionTreeClassifier\n",
    "from sklearn.ensemble import RandomForestClassifier\n",
    "from xgboost import XGBClassifier\n",
    "from sklearn import svm\n",
    "\n",
    "x_train, x_test, y_train, y_test = train_test_split(x_new, y_new, test_size = 0.25, random_state = 2)"
   ]
  },
  {
   "cell_type": "markdown",
   "id": "bbb1d37f",
   "metadata": {
    "papermill": {
     "duration": 0.018091,
     "end_time": "2022-12-12T09:57:48.315627",
     "exception": false,
     "start_time": "2022-12-12T09:57:48.297536",
     "status": "completed"
    },
    "tags": []
   },
   "source": [
    "### Logistic Regression"
   ]
  },
  {
   "cell_type": "code",
   "execution_count": 29,
   "id": "164c3b9f",
   "metadata": {
    "execution": {
     "iopub.execute_input": "2022-12-12T09:57:48.354123Z",
     "iopub.status.busy": "2022-12-12T09:57:48.353701Z",
     "iopub.status.idle": "2022-12-12T09:57:48.792667Z",
     "shell.execute_reply": "2022-12-12T09:57:48.791370Z"
    },
    "papermill": {
     "duration": 0.461241,
     "end_time": "2022-12-12T09:57:48.795262",
     "exception": false,
     "start_time": "2022-12-12T09:57:48.334021",
     "status": "completed"
    },
    "tags": []
   },
   "outputs": [
    {
     "name": "stdout",
     "output_type": "stream",
     "text": [
      "Accuracy Score is 0.72414\n",
      "    0  1\n",
      "0  12  8\n",
      "1   0  9\n"
     ]
    },
    {
     "name": "stderr",
     "output_type": "stream",
     "text": [
      "/opt/conda/lib/python3.7/site-packages/sklearn/utils/deprecation.py:87: FutureWarning: Function plot_confusion_matrix is deprecated; Function `plot_confusion_matrix` is deprecated in 1.0 and will be removed in 1.2. Use one of the class methods: ConfusionMatrixDisplay.from_predictions or ConfusionMatrixDisplay.from_estimator.\n",
      "  warnings.warn(msg, category=FutureWarning)\n"
     ]
    },
    {
     "data": {
      "text/plain": [
       "0.8"
      ]
     },
     "execution_count": 29,
     "metadata": {},
     "output_type": "execute_result"
    },
    {
     "data": {
      "image/png": "[encoded data removed]",
      "text/plain": [
       "<Figure size 1800x1080 with 2 Axes>"
      ]
     },
     "metadata": {},
     "output_type": "display_data"
    }
   ],
   "source": [
    "model = LogisticRegression(C=0.8,\n",
    "                           random_state=0,\n",
    "                           solver='lbfgs')\n",
    "model.fit(x_train, y_train)\n",
    "y_predict = model.predict(x_test)\n",
    "\n",
    "print('Accuracy Score is {:.5}'.format(accuracy_score(y_test, y_predict)))\n",
    "print(pd.DataFrame(confusion_matrix(y_test,y_predict)))\n",
    "\n",
    "sns.set_style('white') \n",
    "class_names = ['0','1']\n",
    "plot_confusion_matrix(model,x_test,y_test)\n",
    "roc_auc_score(y_test, y_predict)"
   ]
  },
  {
   "cell_type": "markdown",
   "id": "faef681b",
   "metadata": {
    "papermill": {
     "duration": 0.019767,
     "end_time": "2022-12-12T09:57:48.835071",
     "exception": false,
     "start_time": "2022-12-12T09:57:48.815304",
     "status": "completed"
    },
    "tags": []
   },
   "source": [
    "### DecisionTreeClassifier"
   ]
  },
  {
   "cell_type": "code",
   "execution_count": 30,
   "id": "db153068",
   "metadata": {
    "execution": {
     "iopub.execute_input": "2022-12-12T09:57:48.878082Z",
     "iopub.status.busy": "2022-12-12T09:57:48.876871Z",
     "iopub.status.idle": "2022-12-12T09:57:49.315325Z",
     "shell.execute_reply": "2022-12-12T09:57:49.313998Z"
    },
    "papermill": {
     "duration": 0.462832,
     "end_time": "2022-12-12T09:57:49.317883",
     "exception": false,
     "start_time": "2022-12-12T09:57:48.855051",
     "status": "completed"
    },
    "tags": []
   },
   "outputs": [
    {
     "name": "stdout",
     "output_type": "stream",
     "text": [
      "Accuracy Score is 1.0\n",
      "    0  1\n",
      "0  20  0\n",
      "1   0  9\n"
     ]
    },
    {
     "name": "stderr",
     "output_type": "stream",
     "text": [
      "/opt/conda/lib/python3.7/site-packages/sklearn/utils/deprecation.py:87: FutureWarning: Function plot_confusion_matrix is deprecated; Function `plot_confusion_matrix` is deprecated in 1.0 and will be removed in 1.2. Use one of the class methods: ConfusionMatrixDisplay.from_predictions or ConfusionMatrixDisplay.from_estimator.\n",
      "  warnings.warn(msg, category=FutureWarning)\n"
     ]
    },
    {
     "data": {
      "text/plain": [
       "1.0"
      ]
     },
     "execution_count": 30,
     "metadata": {},
     "output_type": "execute_result"
    },
    {
     "data": {
      "image/png": "[encoded data removed]",
      "text/plain": [
       "<Figure size 1800x1080 with 2 Axes>"
      ]
     },
     "metadata": {},
     "output_type": "display_data"
    }
   ],
   "source": [
    "model = DecisionTreeClassifier(max_depth=12,\n",
    "                               min_samples_split=8,\n",
    "                               random_state=1024)\n",
    "model.fit(x_train, y_train)\n",
    "y_predict = model.predict(x_test)\n",
    "\n",
    "print('Accuracy Score is {:.5}'.format(accuracy_score(y_test, y_predict)))\n",
    "print(pd.DataFrame(confusion_matrix(y_test,y_predict)))\n",
    "\n",
    "plot_confusion_matrix(model,x_test,y_test)\n",
    "\n",
    "roc_auc_score(y_test, y_predict)"
   ]
  },
  {
   "cell_type": "markdown",
   "id": "06d2c389",
   "metadata": {
    "papermill": {
     "duration": 0.019752,
     "end_time": "2022-12-12T09:57:49.358211",
     "exception": false,
     "start_time": "2022-12-12T09:57:49.338459",
     "status": "completed"
    },
    "tags": []
   },
   "source": [
    "### Random Forest Classifier"
   ]
  },
  {
   "cell_type": "code",
   "execution_count": 31,
   "id": "52d8e1ae",
   "metadata": {
    "execution": {
     "iopub.execute_input": "2022-12-12T09:57:49.399694Z",
     "iopub.status.busy": "2022-12-12T09:57:49.399286Z",
     "iopub.status.idle": "2022-12-12T09:57:50.181040Z",
     "shell.execute_reply": "2022-12-12T09:57:50.179895Z"
    },
    "papermill": {
     "duration": 0.805245,
     "end_time": "2022-12-12T09:57:50.183281",
     "exception": false,
     "start_time": "2022-12-12T09:57:49.378036",
     "status": "completed"
    },
    "tags": []
   },
   "outputs": [
    {
     "name": "stdout",
     "output_type": "stream",
     "text": [
      "Accuracy Score is 0.75862\n",
      "    0  1\n",
      "0  13  7\n",
      "1   0  9\n"
     ]
    },
    {
     "name": "stderr",
     "output_type": "stream",
     "text": [
      "/opt/conda/lib/python3.7/site-packages/sklearn/utils/deprecation.py:87: FutureWarning: Function plot_confusion_matrix is deprecated; Function `plot_confusion_matrix` is deprecated in 1.0 and will be removed in 1.2. Use one of the class methods: ConfusionMatrixDisplay.from_predictions or ConfusionMatrixDisplay.from_estimator.\n",
      "  warnings.warn(msg, category=FutureWarning)\n"
     ]
    },
    {
     "data": {
      "text/plain": [
       "0.825"
      ]
     },
     "execution_count": 31,
     "metadata": {},
     "output_type": "execute_result"
    },
    {
     "data": {
      "image/png": "[encoded data removed]",
      "text/plain": [
       "<Figure size 1800x1080 with 2 Axes>"
      ]
     },
     "metadata": {},
     "output_type": "display_data"
    }
   ],
   "source": [
    "model = RandomForestClassifier(n_estimators=250,\n",
    "                              max_depth=12,\n",
    "                              min_samples_leaf=16\n",
    "                              )\n",
    "model.fit(x_train, y_train)\n",
    "y_predict = model.predict(x_test)\n",
    "\n",
    "print('Accuracy Score is {:.5}'.format(accuracy_score(y_test, y_predict)))\n",
    "print(pd.DataFrame(confusion_matrix(y_test,y_predict)))\n",
    "\n",
    "plot_confusion_matrix(model,x_test,y_test)\n",
    "\n",
    "roc_auc_score(y_test, y_predict)"
   ]
  },
  {
   "cell_type": "markdown",
   "id": "b985e308",
   "metadata": {
    "papermill": {
     "duration": 0.021064,
     "end_time": "2022-12-12T09:57:50.224932",
     "exception": false,
     "start_time": "2022-12-12T09:57:50.203868",
     "status": "completed"
    },
    "tags": []
   },
   "source": [
    "### SVM classifier"
   ]
  },
  {
   "cell_type": "code",
   "execution_count": 32,
   "id": "48192a64",
   "metadata": {
    "execution": {
     "iopub.execute_input": "2022-12-12T09:57:50.267894Z",
     "iopub.status.busy": "2022-12-12T09:57:50.267508Z",
     "iopub.status.idle": "2022-12-12T09:58:35.416944Z",
     "shell.execute_reply": "2022-12-12T09:58:35.416081Z"
    },
    "papermill": {
     "duration": 45.173527,
     "end_time": "2022-12-12T09:58:35.419069",
     "exception": false,
     "start_time": "2022-12-12T09:57:50.245542",
     "status": "completed"
    },
    "tags": []
   },
   "outputs": [
    {
     "name": "stdout",
     "output_type": "stream",
     "text": [
      "Accuracy Score is 0.89655\n",
      "    0  1\n",
      "0  17  3\n",
      "1   0  9\n"
     ]
    },
    {
     "name": "stderr",
     "output_type": "stream",
     "text": [
      "/opt/conda/lib/python3.7/site-packages/sklearn/utils/deprecation.py:87: FutureWarning: Function plot_confusion_matrix is deprecated; Function `plot_confusion_matrix` is deprecated in 1.0 and will be removed in 1.2. Use one of the class methods: ConfusionMatrixDisplay.from_predictions or ConfusionMatrixDisplay.from_estimator.\n",
      "  warnings.warn(msg, category=FutureWarning)\n"
     ]
    },
    {
     "data": {
      "text/plain": [
       "0.9249999999999999"
      ]
     },
     "execution_count": 32,
     "metadata": {},
     "output_type": "execute_result"
    },
    {
     "data": {
      "image/png": "[encoded data removed]",
      "text/plain": [
       "<Figure size 1800x1080 with 2 Axes>"
      ]
     },
     "metadata": {},
     "output_type": "display_data"
    }
   ],
   "source": [
    "model = svm.SVC(C = 0.8,\n",
    "                kernel='linear')\n",
    "model.fit(x_train, y_train)\n",
    "y_predict = model.predict(x_test)\n",
    "\n",
    "print('Accuracy Score is {:.5}'.format(accuracy_score(y_test, y_predict)))\n",
    "print(pd.DataFrame(confusion_matrix(y_test,y_predict)))\n",
    "\n",
    "plot_confusion_matrix(model,x_test,y_test)\n",
    "\n",
    "roc_auc_score(y_test, y_predict)"
   ]
  },
  {
   "cell_type": "markdown",
   "id": "126ea742",
   "metadata": {
    "papermill": {
     "duration": 0.021067,
     "end_time": "2022-12-12T09:58:35.461576",
     "exception": false,
     "start_time": "2022-12-12T09:58:35.440509",
     "status": "completed"
    },
    "tags": []
   },
   "source": [
    "### XGBoost classifier"
   ]
  },
  {
   "cell_type": "code",
   "execution_count": 33,
   "id": "7aaaff9f",
   "metadata": {
    "execution": {
     "iopub.execute_input": "2022-12-12T09:58:35.506233Z",
     "iopub.status.busy": "2022-12-12T09:58:35.505138Z",
     "iopub.status.idle": "2022-12-12T09:58:36.496983Z",
     "shell.execute_reply": "2022-12-12T09:58:36.495848Z"
    },
    "papermill": {
     "duration": 1.016642,
     "end_time": "2022-12-12T09:58:36.499285",
     "exception": false,
     "start_time": "2022-12-12T09:58:35.482643",
     "status": "completed"
    },
    "tags": []
   },
   "outputs": [
    {
     "name": "stdout",
     "output_type": "stream",
     "text": [
      "Accuracy Score is 0.89655\n",
      "    0  1\n",
      "0  18  2\n",
      "1   1  8\n"
     ]
    },
    {
     "name": "stderr",
     "output_type": "stream",
     "text": [
      "/opt/conda/lib/python3.7/site-packages/sklearn/utils/deprecation.py:87: FutureWarning: Function plot_confusion_matrix is deprecated; Function `plot_confusion_matrix` is deprecated in 1.0 and will be removed in 1.2. Use one of the class methods: ConfusionMatrixDisplay.from_predictions or ConfusionMatrixDisplay.from_estimator.\n",
      "  warnings.warn(msg, category=FutureWarning)\n"
     ]
    },
    {
     "data": {
      "text/plain": [
       "0.8944444444444444"
      ]
     },
     "execution_count": 33,
     "metadata": {},
     "output_type": "execute_result"
    },
    {
     "data": {
      "image/png": "[encoded data removed]",
      "text/plain": [
       "<Figure size 1800x1080 with 2 Axes>"
      ]
     },
     "metadata": {},
     "output_type": "display_data"
    }
   ],
   "source": [
    "model = XGBClassifier(max_depth=12,\n",
    "                      n_estimators=250,\n",
    "                      min_child_weight=8, \n",
    "                      subsample=0.8, \n",
    "                      learning_rate =0.02,    \n",
    "                      seed=42)\n",
    "\n",
    "model.fit(x_train, y_train)\n",
    "y_predict = model.predict(x_test)\n",
    "\n",
    "print('Accuracy Score is {:.5}'.format(accuracy_score(y_test, y_predict)))\n",
    "print(pd.DataFrame(confusion_matrix(y_test,y_predict)))\n",
    "\n",
    "plot_confusion_matrix(model,x_test,y_test)\n",
    "\n",
    "roc_auc_score(y_test, y_predict)"
   ]
  },
  {
   "cell_type": "code",
   "execution_count": 34,
   "id": "756fd7c9",
   "metadata": {
    "execution": {
     "iopub.execute_input": "2022-12-12T09:58:36.545527Z",
     "iopub.status.busy": "2022-12-12T09:58:36.544439Z",
     "iopub.status.idle": "2022-12-12T09:58:37.102960Z",
     "shell.execute_reply": "2022-12-12T09:58:37.101913Z"
    },
    "papermill": {
     "duration": 0.585008,
     "end_time": "2022-12-12T09:58:37.106298",
     "exception": false,
     "start_time": "2022-12-12T09:58:36.521290",
     "status": "completed"
    },
    "tags": []
   },
   "outputs": [
    {
     "data": {
      "image/png": "[encoded data removed]",
      "text/plain": [
       "<Figure size 1800x1080 with 1 Axes>"
      ]
     },
     "metadata": {},
     "output_type": "display_data"
    }
   ],
   "source": [
    "def plot_importance(classifer, x_train, point_size = 25):\n",
    "    '''plot feature importance'''\n",
    "    values = sorted(zip(x_train.columns, classifer.feature_importances_), key = lambda x: x[1] * -1)\n",
    "    imp = pd.DataFrame(values,columns = [\"Name\", \"Score\"])\n",
    "    imp.sort_values(by = 'Score',inplace = True)\n",
    "    sns.scatterplot(x = 'Score',y='Name', linewidth = 0,\n",
    "                data = imp,s = point_size, color='red').set(\n",
    "    xlabel='importance', \n",
    "    ylabel='features')\n",
    "\n",
    "plot_importance(model, x_train, 20)   "
   ]
  },
  {
   "cell_type": "markdown",
   "id": "2c506e18",
   "metadata": {
    "papermill": {
     "duration": 0.022749,
     "end_time": "2022-12-12T09:58:37.152518",
     "exception": false,
     "start_time": "2022-12-12T09:58:37.129769",
     "status": "completed"
    },
    "tags": []
   },
   "source": [
    "## Conclusion"
   ]
  },
  {
   "cell_type": "markdown",
   "id": "debf3cb8",
   "metadata": {
    "papermill": {
     "duration": 0.023056,
     "end_time": "2022-12-12T09:58:37.199307",
     "exception": false,
     "start_time": "2022-12-12T09:58:37.176251",
     "status": "completed"
    },
    "tags": []
   },
   "source": []
  },
  {
   "cell_type": "code",
   "execution_count": 35,
   "id": "0b9ae5df",
   "metadata": {
    "execution": {
     "iopub.execute_input": "2022-12-12T09:58:37.248340Z",
     "iopub.status.busy": "2022-12-12T09:58:37.247089Z",
     "iopub.status.idle": "2022-12-12T09:58:37.670530Z",
     "shell.execute_reply": "2022-12-12T09:58:37.669399Z"
    },
    "papermill": {
     "duration": 0.450782,
     "end_time": "2022-12-12T09:58:37.673127",
     "exception": false,
     "start_time": "2022-12-12T09:58:37.222345",
     "status": "completed"
    },
    "tags": []
   },
   "outputs": [
    {
     "name": "stdout",
     "output_type": "stream",
     "text": [
      "Accuracy Score is 1.0\n",
      "    0  1\n",
      "0  20  0\n",
      "1   0  9\n"
     ]
    },
    {
     "name": "stderr",
     "output_type": "stream",
     "text": [
      "/opt/conda/lib/python3.7/site-packages/sklearn/utils/deprecation.py:87: FutureWarning: Function plot_confusion_matrix is deprecated; Function `plot_confusion_matrix` is deprecated in 1.0 and will be removed in 1.2. Use one of the class methods: ConfusionMatrixDisplay.from_predictions or ConfusionMatrixDisplay.from_estimator.\n",
      "  warnings.warn(msg, category=FutureWarning)\n"
     ]
    },
    {
     "data": {
      "text/plain": [
       "1.0"
      ]
     },
     "execution_count": 35,
     "metadata": {},
     "output_type": "execute_result"
    },
    {
     "data": {
      "image/png": "[encoded data removed]",
      "text/plain": [
       "<Figure size 1800x1080 with 2 Axes>"
      ]
     },
     "metadata": {},
     "output_type": "display_data"
    }
   ],
   "source": [
    "model = DecisionTreeClassifier(max_depth=12,\n",
    "                               min_samples_split=8,\n",
    "                               random_state=1024)\n",
    "model.fit(x_train, y_train)\n",
    "y_predict = model.predict(x_test)\n",
    "\n",
    "print('Accuracy Score is {:.5}'.format(accuracy_score(y_test, y_predict)))\n",
    "print(pd.DataFrame(confusion_matrix(y_test,y_predict)))\n",
    "\n",
    "plot_confusion_matrix(model,x_test,y_test)\n",
    "\n",
    "roc_auc_score(y_test, y_predict)"
   ]
  },
  {
   "cell_type": "markdown",
   "id": "5cec0fd4",
   "metadata": {
    "papermill": {
     "duration": 0.023383,
     "end_time": "2022-12-12T09:58:37.720720",
     "exception": false,
     "start_time": "2022-12-12T09:58:37.697337",
     "status": "completed"
    },
    "tags": []
   },
   "source": [
    "### The best model to predict bad/good card customers is the Decision Tree Classifier with an accuracy score of 1 and a ROC of 1.\n",
    "### As a next step, we could further assess that the model if not overfit and too fitted to the training dataset by setting up\n",
    "### a cross validation process."
   ]
  },
  {
   "cell_type": "markdown",
   "id": "88320bcb",
   "metadata": {
    "papermill": {
     "duration": 0.023665,
     "end_time": "2022-12-12T09:58:37.768166",
     "exception": false,
     "start_time": "2022-12-12T09:58:37.744501",
     "status": "completed"
    },
    "tags": []
   },
   "source": []
  },
  {
   "cell_type": "markdown",
   "id": "cfef4791",
   "metadata": {
    "papermill": {
     "duration": 0.023274,
     "end_time": "2022-12-12T09:58:37.815269",
     "exception": false,
     "start_time": "2022-12-12T09:58:37.791995",
     "status": "completed"
    },
    "tags": []
   },
   "source": []
  }
 ],
 "metadata": {
  "kernelspec": {
   "display_name": "Python 3",
   "language": "python",
   "name": "python3"
  },
  "language_info": {
   "codemirror_mode": {
    "name": "ipython",
    "version": 3
   },
   "file_extension": ".py",
   "mimetype": "text/x-python",
   "name": "python",
   "nbconvert_exporter": "python",
   "pygments_lexer": "ipython3",
   "version": "3.7.12"
  },
  "papermill": {
   "default_parameters": {},
   "duration": 70.733602,
   "end_time": "2022-12-12T09:58:38.662920",
   "environment_variables": {},
   "exception": null,
   "input_path": "__notebook__.ipynb",
   "output_path": "__notebook__.ipynb",
   "parameters": {},
   "start_time": "2022-12-12T09:57:27.929318",
   "version": "2.3.4"
  }
 },
 "nbformat": 4,
 "nbformat_minor": 5
}
